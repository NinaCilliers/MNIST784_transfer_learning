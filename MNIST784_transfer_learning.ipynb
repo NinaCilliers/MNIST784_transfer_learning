{
 "cells": [
  {
   "attachments": {},
   "cell_type": "markdown",
   "metadata": {},
   "source": [
    "# Handwritten digit classification via transfer learning\n",
    "\n",
    "... to decode the MNIST 784 dataset. This dataset contains a subset of 70,000 size-normalized and centered hand written digits. Previously a convolutional neural network was built with 99.6% accuracy.\n",
    "\n",
    "..."
   ]
  },
  {
   "cell_type": "code",
   "execution_count": null,
   "metadata": {},
   "outputs": [],
   "source": [
    "from sklearn.datasets import fetch_openml\n",
    "from sklearn.metrics import accuracy_score\n",
    "import matplotlib.pyplot as plt\n",
    "import numpy as np\n",
    "import tensorflow as tf\n",
    "from tensorflow.keras.applications import ResNet50, MobileNet\n",
    "from tensorflow.keras.applications.inception_v3 import InceptionV3\n",
    "from keras.callbacks import ModelCheckpoint\n",
    "import os\n",
    "import pickle"
   ]
  },
  {
   "cell_type": "code",
   "execution_count": 46,
   "metadata": {},
   "outputs": [
    {
     "data": {
      "text/plain": [
       "'C:\\\\Users\\\\corne\\\\OneDrive\\\\Documents\\\\DS_Portfolio\\\\MNIST784_transfer_learning'"
      ]
     },
     "execution_count": 46,
     "metadata": {},
     "output_type": "execute_result"
    }
   ],
   "source": [
    "os.chdir('C:\\\\Users\\\\corne\\\\OneDrive\\\\Documents\\\\DS_Portfolio\\\\MNIST784_transfer_learning')\n",
    "os.getcwd()"
   ]
  },
  {
   "cell_type": "code",
   "execution_count": 47,
   "metadata": {},
   "outputs": [],
   "source": [
    "#fully connected training iterations\n",
    "fc_iter = 1\n",
    "\n",
    "#fine tuning traiing iterations\n",
    "ft_iter = 1\n",
    "\n",
    "iters = (fc_iter, ft_iter)"
   ]
  },
  {
   "attachments": {},
   "cell_type": "markdown",
   "metadata": {},
   "source": [
    "### Preprocessing data"
   ]
  },
  {
   "cell_type": "code",
   "execution_count": 48,
   "metadata": {},
   "outputs": [],
   "source": [
    "#Loading MNIST_784 dataset from OpenML\n",
    "mnist = fetch_openml('mnist_784', as_frame = False, parser='auto') \n",
    "X,y = mnist.data.reshape(-1,28,28,1), mnist.target.reshape(-1,1)\n",
    "y = y.astype(np.int64)"
   ]
  },
  {
   "cell_type": "code",
   "execution_count": 49,
   "metadata": {},
   "outputs": [
    {
     "name": "stdout",
     "output_type": "stream",
     "text": [
      "X range before rescaling:\n",
      "0 255\n",
      "X range after rescaling\n",
      "-1.0 1.0\n",
      "X mean: -0.74\n",
      " X std: 0.62\n"
     ]
    }
   ],
   "source": [
    "#rescaling X\n",
    "print('X range before rescaling:')\n",
    "print(round(X[0].min(),2), round(X[0].max(),2))\n",
    "\n",
    "X = X/127.5-1\n",
    "print('X range after rescaling')\n",
    "print(round(X[0].min(),2), round(X[0].max(),2))\n",
    "print(f'X mean: {round(X.mean(),2)}')\n",
    "print(f' X std: {round(X.std(),2)}')\n"
   ]
  },
  {
   "cell_type": "code",
   "execution_count": 50,
   "metadata": {},
   "outputs": [],
   "source": [
    "#Defining function to look at a digit\n",
    "def show_num(input_pic):\n",
    "  plt.imshow(input_pic,cmap='binary')\n",
    "  plt.axis(False)"
   ]
  },
  {
   "cell_type": "code",
   "execution_count": 51,
   "metadata": {},
   "outputs": [
    {
     "name": "stdout",
     "output_type": "stream",
     "text": [
      "Image shape before:\n",
      "(70000, 28, 28, 1)\n",
      "Image shape after:\n",
      "(70000, 28, 28, 3)\n",
      "\n",
      "Checking Image:\n"
     ]
    },
    {
     "data": {
      "image/png": "[encoded data removed]",
      "text/plain": [
       "<Figure size 640x480 with 3 Axes>"
      ]
     },
     "metadata": {},
     "output_type": "display_data"
    }
   ],
   "source": [
    "#repeating gray scale image in 3 channel format for compatability with three channel format \n",
    "#of the pre-trained network\n",
    "\n",
    "print('Image shape before:')\n",
    "print(X.shape)  \n",
    "X_rgb = np.repeat(X,3,axis=-1)\n",
    "print('Image shape after:')\n",
    "print(X_rgb.shape)\n",
    "\n",
    "print('\\nChecking Image:')\n",
    "#checking repeat image \n",
    "for n in range(3):\n",
    "    ax = plt.subplot(1,3,n+1)\n",
    "    show_num(X_rgb[0][:,:,n])"
   ]
  },
  {
   "cell_type": "code",
   "execution_count": 52,
   "metadata": {},
   "outputs": [],
   "source": [
    "#Making test and train sets\n",
    "X_train, y_train, X_valid, y_valid, X_test, y_test = X_rgb[:60000], y[:60000],X_rgb[60000:65000],y[60000:65000],X_rgb[65000:],y[65000:]\n",
    "\n",
    "#temporary \n",
    "X_train = X_train[:5000]\n",
    "y_train = y_train[:5000]\n",
    "X_valid = X_valid[:1000]\n",
    "y_valid = y_valid[:1000]\n",
    "\n",
    "\n",
    "train_data = (X_train, y_train, X_valid, y_valid)"
   ]
  },
  {
   "attachments": {},
   "cell_type": "markdown",
   "metadata": {},
   "source": [
    "### Building and training transfer learning models"
   ]
  },
  {
   "cell_type": "code",
   "execution_count": 53,
   "metadata": {},
   "outputs": [],
   "source": [
    "#function for creating transfer learning model\n",
    "\n",
    "def build(t_model, input_size):\n",
    "    #creates transfer model\n",
    "    transfer_model = t_model(include_top=False, input_shape=(input_size,input_size,3),weights='imagenet')\n",
    "    transfer_model.trainable = False #freezes model \n",
    "    #note: setting trainable to false also sets training to false for BN layers in tf version 2.0 and above\n",
    "\n",
    "    #creates model with fully connected layers\n",
    "    print('Building model...')\n",
    "    inputs = tf.keras.Input(shape=(28,28,3), name='Input')\n",
    "    x = tf.keras.layers.Resizing(input_size, input_size)(inputs)\n",
    "    x = transfer_model(x)\n",
    "    x = tf.keras.layers.Flatten()(x)\n",
    "    x = tf.keras.layers.Dense(units=128, activation='relu', kernel_initializer='he_normal')(x)\n",
    "    x = tf.keras.layers.Dropout(0.2)(x)\n",
    "    x = tf.keras.layers.Dense(units=64, activation='relu', kernel_initializer='he_normal')(x)\n",
    "    x = tf.keras.layers.Dropout(0.2)(x)\n",
    "    outputs = tf.keras.layers.Dense(units=10,activation='linear',kernel_initializer='he_normal')(x)\n",
    "    model = tf.keras.Model(inputs, outputs)\n",
    "\n",
    "    print(model.summary())\n",
    "\n",
    "    \n",
    "    #compile model \n",
    "    model.compile(loss=tf.keras.losses.SparseCategoricalCrossentropy(from_logits=True),\n",
    "            optimizer = tf.keras.optimizers.Adam(0.001),\n",
    "            metrics = ['accuracy'])\n",
    "    \n",
    "\n",
    "    return(model)"
   ]
  },
  {
   "cell_type": "code",
   "execution_count": 54,
   "metadata": {},
   "outputs": [],
   "source": [
    "def train_FC(model, train_data, iters):\n",
    "    #training top layers\n",
    "    print('Training top layers...')\n",
    "    history = model.fit(train_data[0], train_data[1], validation_data=(train_data[2:]), epochs = iters[0])\n",
    "\n",
    "    #saving weights\n",
    "    weight_name = 'weights_'+str(model.layers[2].name)+'_fc.h5'\n",
    "    model.save_weights(weight_name)\n",
    "    return(model, history)\n",
    "    #save_weights = ModelCheckpoint(weight_file_name, save_best_only=True, save_weights_only=True)"
   ]
  },
  {
   "cell_type": "code",
   "execution_count": 55,
   "metadata": {},
   "outputs": [],
   "source": [
    "def fine_tune(model, train_data, iters):\n",
    "    print('Fine tuning all layers...')\n",
    "    \n",
    "    #unfreezing transfer model\n",
    "    model.layers[2].trainable = True \n",
    "    #print(str(model.layers[2].name),str(model.layers[2].trainable))\n",
    "\n",
    "    #Checking that BN layers are in inference mode and all layers are trainable\n",
    "    for layer in model.layers[2].layers: \n",
    "        if (isinstance(layer, tf.keras.layers.BatchNormalization)):\n",
    "            layer.trainable = False\n",
    "        else: assert layer.trainable == True\n",
    "\n",
    "    model.compile(loss=tf.keras.losses.SparseCategoricalCrossentropy(from_logits=True),\n",
    "        optimizer = tf.keras.optimizers.Adam(1e-6),\n",
    "        metrics = ['accuracy'])\n",
    "\n",
    "    history = model.fit(train_data[0], train_data[1], validation_data = (train_data[2:]), epochs = iters[1])\n",
    "\n",
    "    #saving weights\n",
    "    weight_name = 'weights_'+str(model.layers[2].name)+'_ft.h5'\n",
    "    model.save_weights(weight_name)\n",
    "\n",
    "    return(model, history)"
   ]
  },
  {
   "cell_type": "code",
   "execution_count": 56,
   "metadata": {},
   "outputs": [],
   "source": [
    "def build_and_train(t_model, input_size, train_data, iters):\n",
    "    model = build(t_model, input_size)\n",
    "\n",
    "    model, history = train_FC(model, train_data, iters)\n",
    "    acc = history.history['accuracy']\n",
    "    val_acc = history.history['val_accuracy']\n",
    "    loss = history.history['loss']\n",
    "    val_loss = history.history['val_loss']\n",
    "\n",
    "    model, history = fine_tune(model, train_data, iters)\n",
    "    acc += history.history['accuracy']\n",
    "    val_acc += history.history['val_accuracy']\n",
    "    loss += history.history['loss']\n",
    "    val_loss += history.history['val_loss']\n",
    "\n",
    "    scores = (acc, val_acc, loss, val_loss)\n",
    "    #pickles scores\n",
    "    pickle_name = str(t_model)+('_scores.pkl')\n",
    "    pickle.dump(scores, open(pickle_name, 'wb'))\n",
    "\n",
    "    return(model,scores)\n",
    "    "
   ]
  },
  {
   "cell_type": "code",
   "execution_count": 57,
   "metadata": {},
   "outputs": [],
   "source": [
    "def predict(model, test_data):\n",
    "    y_pred = model.predict(test_data[0]).argmax(axis=1)\n",
    "    return accuracy_score(test_data[1],y_pred)"
   ]
  },
  {
   "attachments": {},
   "cell_type": "markdown",
   "metadata": {},
   "source": [
    "## Models"
   ]
  },
  {
   "cell_type": "code",
   "execution_count": 58,
   "metadata": {},
   "outputs": [
    {
     "name": "stdout",
     "output_type": "stream",
     "text": [
      "Building model...\n",
      "Model: \"model_3\"\n",
      "_________________________________________________________________\n",
      " Layer (type)                Output Shape              Param #   \n",
      "=================================================================\n",
      " Input (InputLayer)          [(None, 28, 28, 3)]       0         \n",
      "                                                                 \n",
      " resizing_3 (Resizing)       (None, 32, 32, 3)         0         \n",
      "                                                                 \n",
      " resnet50 (Functional)       (None, 1, 1, 2048)        23587712  \n",
      "                                                                 \n",
      " flatten_3 (Flatten)         (None, 2048)              0         \n",
      "                                                                 \n",
      " dense_9 (Dense)             (None, 128)               262272    \n",
      "                                                                 \n",
      " dropout_6 (Dropout)         (None, 128)               0         \n",
      "                                                                 \n",
      " dense_10 (Dense)            (None, 64)                8256      \n",
      "                                                                 \n",
      " dropout_7 (Dropout)         (None, 64)                0         \n",
      "                                                                 \n",
      " dense_11 (Dense)            (None, 10)                650       \n",
      "                                                                 \n",
      "=================================================================\n",
      "Total params: 23,858,890\n",
      "Trainable params: 271,178\n",
      "Non-trainable params: 23,587,712\n",
      "_________________________________________________________________\n",
      "None\n",
      "Training top layers...\n",
      "157/157 [==============================] - 21s 112ms/step - loss: 1.3227 - accuracy: 0.5658 - val_loss: 0.7913 - val_accuracy: 0.7480\n",
      "Fine tuning all layers...\n",
      "157/157 [==============================] - 244s 1s/step - loss: 0.6976 - accuracy: 0.7678 - val_loss: 0.5449 - val_accuracy: 0.8330\n"
     ]
    }
   ],
   "source": [
    "resnet_model, resnet_score = build_and_train(ResNet50,32,train_data,iters)"
   ]
  },
  {
   "cell_type": "code",
   "execution_count": 59,
   "metadata": {},
   "outputs": [
    {
     "name": "stdout",
     "output_type": "stream",
     "text": [
      "Building model...\n",
      "Model: \"model_4\"\n",
      "_________________________________________________________________\n",
      " Layer (type)                Output Shape              Param #   \n",
      "=================================================================\n",
      " Input (InputLayer)          [(None, 28, 28, 3)]       0         \n",
      "                                                                 \n",
      " resizing_4 (Resizing)       (None, 75, 75, 3)         0         \n",
      "                                                                 \n",
      " inception_v3 (Functional)   (None, 1, 1, 2048)        21802784  \n",
      "                                                                 \n",
      " flatten_4 (Flatten)         (None, 2048)              0         \n",
      "                                                                 \n",
      " dense_12 (Dense)            (None, 128)               262272    \n",
      "                                                                 \n",
      " dropout_8 (Dropout)         (None, 128)               0         \n",
      "                                                                 \n",
      " dense_13 (Dense)            (None, 64)                8256      \n",
      "                                                                 \n",
      " dropout_9 (Dropout)         (None, 64)                0         \n",
      "                                                                 \n",
      " dense_14 (Dense)            (None, 10)                650       \n",
      "                                                                 \n",
      "=================================================================\n",
      "Total params: 22,073,962\n",
      "Trainable params: 271,178\n",
      "Non-trainable params: 21,802,784\n",
      "_________________________________________________________________\n",
      "None\n",
      "Training top layers...\n",
      "157/157 [==============================] - 27s 144ms/step - loss: 0.9651 - accuracy: 0.6812 - val_loss: 0.5777 - val_accuracy: 0.8000\n",
      "Fine tuning all layers...\n",
      "157/157 [==============================] - 143s 828ms/step - loss: 0.4631 - accuracy: 0.8508 - val_loss: 0.4084 - val_accuracy: 0.8640\n"
     ]
    }
   ],
   "source": [
    "inception_model, inception_score = build_and_train(InceptionV3,75,train_data,iters)"
   ]
  },
  {
   "cell_type": "code",
   "execution_count": 60,
   "metadata": {},
   "outputs": [
    {
     "name": "stdout",
     "output_type": "stream",
     "text": [
      "WARNING:tensorflow:`input_shape` is undefined or non-square, or `rows` is not in [128, 160, 192, 224]. Weights for input shape (224, 224) will be loaded as the default.\n",
      "Building model...\n",
      "Model: \"model_5\"\n",
      "_________________________________________________________________\n",
      " Layer (type)                Output Shape              Param #   \n",
      "=================================================================\n",
      " Input (InputLayer)          [(None, 28, 28, 3)]       0         \n",
      "                                                                 \n",
      " resizing_5 (Resizing)       (None, 32, 32, 3)         0         \n",
      "                                                                 \n",
      " mobilenet_1.00_224 (Functio  (None, 1, 1, 1024)       3228864   \n",
      " nal)                                                            \n",
      "                                                                 \n",
      " flatten_5 (Flatten)         (None, 1024)              0         \n",
      "                                                                 \n",
      " dense_15 (Dense)            (None, 128)               131200    \n",
      "                                                                 \n",
      " dropout_10 (Dropout)        (None, 128)               0         \n",
      "                                                                 \n",
      " dense_16 (Dense)            (None, 64)                8256      \n",
      "                                                                 \n",
      " dropout_11 (Dropout)        (None, 64)                0         \n",
      "                                                                 \n",
      " dense_17 (Dense)            (None, 10)                650       \n",
      "                                                                 \n",
      "=================================================================\n",
      "Total params: 3,368,970\n",
      "Trainable params: 140,106\n",
      "Non-trainable params: 3,228,864\n",
      "_________________________________________________________________\n",
      "None\n",
      "Training top layers...\n",
      "157/157 [==============================] - 8s 35ms/step - loss: 2.0900 - accuracy: 0.2412 - val_loss: 1.8873 - val_accuracy: 0.3190\n",
      "Fine tuning all layers...\n",
      "157/157 [==============================] - 41s 239ms/step - loss: 1.6098 - accuracy: 0.4346 - val_loss: 1.4487 - val_accuracy: 0.4970\n"
     ]
    }
   ],
   "source": [
    "mobilenet_model, mobilenet_score = build_and_train(MobileNet,32,train_data,iters)"
   ]
  },
  {
   "attachments": {},
   "cell_type": "markdown",
   "metadata": {},
   "source": [
    "### Model Performance"
   ]
  },
  {
   "cell_type": "code",
   "execution_count": 61,
   "metadata": {},
   "outputs": [
    {
     "ename": "NameError",
     "evalue": "name 'acc' is not defined",
     "output_type": "error",
     "traceback": [
      "\u001b[1;31m---------------------------------------------------------------------------\u001b[0m",
      "\u001b[1;31mNameError\u001b[0m                                 Traceback (most recent call last)",
      "Cell \u001b[1;32mIn[61], line 3\u001b[0m\n\u001b[0;32m      1\u001b[0m plt\u001b[39m.\u001b[39mfigure(figsize\u001b[39m=\u001b[39m(\u001b[39m8\u001b[39m, \u001b[39m8\u001b[39m))\n\u001b[0;32m      2\u001b[0m plt\u001b[39m.\u001b[39msubplot(\u001b[39m2\u001b[39m, \u001b[39m1\u001b[39m, \u001b[39m1\u001b[39m)\n\u001b[1;32m----> 3\u001b[0m plt\u001b[39m.\u001b[39mplot(acc, label\u001b[39m=\u001b[39m\u001b[39m'\u001b[39m\u001b[39mTraining Accuracy\u001b[39m\u001b[39m'\u001b[39m)\n\u001b[0;32m      4\u001b[0m plt\u001b[39m.\u001b[39mplot(val_acc, label\u001b[39m=\u001b[39m\u001b[39m'\u001b[39m\u001b[39mValidation Accuracy\u001b[39m\u001b[39m'\u001b[39m)\n\u001b[0;32m      5\u001b[0m \u001b[39m#plt.ylim([0.8, 1])\u001b[39;00m\n",
      "\u001b[1;31mNameError\u001b[0m: name 'acc' is not defined"
     ]
    },
    {
     "data": {
      "image/png": "[encoded data removed]",
      "text/plain": [
       "<Figure size 800x800 with 1 Axes>"
      ]
     },
     "metadata": {},
     "output_type": "display_data"
    }
   ],
   "source": [
    "plt.figure(figsize=(8, 8))\n",
    "plt.subplot(2, 1, 1)\n",
    "plt.plot(acc, label='Training Accuracy')\n",
    "plt.plot(val_acc, label='Validation Accuracy')\n",
    "#plt.ylim([0.8, 1])\n",
    "plt.plot([fc_iter-1,fc_iter-1],\n",
    "          plt.ylim(), label='Start Fine Tuning')\n",
    "plt.legend(loc='lower right')\n",
    "plt.title('Training and Validation Accuracy')\n",
    "\n",
    "plt.subplot(2, 1, 2)\n",
    "plt.plot(loss, label='Training Loss')\n",
    "plt.plot(val_loss, label='Validation Loss')\n",
    "#plt.ylim([0, 1.0])\n",
    "plt.plot([fc_iter-1,fc_iter-1],\n",
    "         plt.ylim(), label='Start Fine Tuning')\n",
    "plt.legend(loc='upper right')\n",
    "plt.title('Training and Validation Loss')\n",
    "plt.xlabel('epoch')\n",
    "plt.show()"
   ]
  },
  {
   "cell_type": "code",
   "execution_count": null,
   "metadata": {},
   "outputs": [],
   "source": [
    "y_pred = model.predict(X_test).argmax(axis=1)\n",
    "resnet_score = accuracy_score(y_test,y_pred)"
   ]
  }
 ],
 "metadata": {
  "kernelspec": {
   "display_name": "python310",
   "language": "python",
   "name": "python3"
  },
  "language_info": {
   "codemirror_mode": {
    "name": "ipython",
    "version": 3
   },
   "file_extension": ".py",
   "mimetype": "text/x-python",
   "name": "python",
   "nbconvert_exporter": "python",
   "pygments_lexer": "ipython3",
   "version": "3.10.0"
  },
  "orig_nbformat": 4
 },
 "nbformat": 4,
 "nbformat_minor": 2
}
