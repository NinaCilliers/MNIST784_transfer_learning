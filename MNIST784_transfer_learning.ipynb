{
 "cells": [
  {
   "attachments": {},
   "cell_type": "markdown",
   "metadata": {},
   "source": [
    "# Handwritten digit classification via transfer learning\n",
    "\n",
    "... to decode the MNIST 784 dataset. This dataset contains a subset of 70,000 size-normalized and centered hand written digits. Previously a convolutional neural network was built with 99.6% accuracy.\n",
    "\n",
    "..."
   ]
  },
  {
   "cell_type": "code",
   "execution_count": 1,
   "metadata": {},
   "outputs": [],
   "source": [
    "from sklearn.datasets import fetch_openml\n",
    "from sklearn.metrics import accuracy_score\n",
    "import matplotlib.pyplot as plt\n",
    "import numpy as np\n",
    "import tensorflow as tf\n",
    "from tensorflow.keras.applications import ResNet50, MobileNet\n",
    "from tensorflow.keras.applications.inception_v3 import InceptionV3\n",
    "from keras.callbacks import ModelCheckpoint"
   ]
  },
  {
   "cell_type": "code",
   "execution_count": 2,
   "metadata": {},
   "outputs": [],
   "source": [
    "#fully connected training iterations\n",
    "fc_iter = 1\n",
    "\n",
    "#fine tuning traiing iterations\n",
    "ft_iter = 1"
   ]
  },
  {
   "attachments": {},
   "cell_type": "markdown",
   "metadata": {},
   "source": [
    "### Preprocessing data"
   ]
  },
  {
   "cell_type": "code",
   "execution_count": 3,
   "metadata": {},
   "outputs": [],
   "source": [
    "#Loading MNIST_784 dataset from OpenML\n",
    "mnist = fetch_openml('mnist_784', as_frame = False, parser='auto') \n",
    "X,y = mnist.data.reshape(-1,28,28,1)/255, mnist.target.reshape(-1,1)\n",
    "y = y.astype(np.int64)"
   ]
  },
  {
   "cell_type": "code",
   "execution_count": 4,
   "metadata": {},
   "outputs": [],
   "source": [
    "#Defining function to look at a digit\n",
    "def show_num(input_pic):\n",
    "  plt.imshow(input_pic,cmap='binary')\n",
    "  plt.axis(False)"
   ]
  },
  {
   "cell_type": "code",
   "execution_count": 5,
   "metadata": {},
   "outputs": [
    {
     "name": "stdout",
     "output_type": "stream",
     "text": [
      "Image shape before:\n",
      "(70000, 28, 28, 1)\n",
      "Image shape after:\n",
      "(70000, 28, 28, 3)\n",
      "\n",
      "Checking Image:\n"
     ]
    },
    {
     "data": {
      "image/png": "[encoded data removed]",
      "text/plain": [
       "<Figure size 640x480 with 3 Axes>"
      ]
     },
     "metadata": {},
     "output_type": "display_data"
    }
   ],
   "source": [
    "#repeating gray scale image in 3 channel format for compatability with three channel format \n",
    "#of the pre-trained network\n",
    "\n",
    "print('Image shape before:')\n",
    "print(X.shape)  \n",
    "X_rgb = np.repeat(X,3,axis=-1)\n",
    "print('Image shape after:')\n",
    "print(X_rgb.shape)\n",
    "\n",
    "print('\\nChecking Image:')\n",
    "#checking repeat image \n",
    "for n in range(3):\n",
    "    ax = plt.subplot(1,3,n+1)\n",
    "    show_num(X_rgb[0][:,:,n])"
   ]
  },
  {
   "attachments": {},
   "cell_type": "markdown",
   "metadata": {},
   "source": [
    "### Fully connected layer definition"
   ]
  },
  {
   "cell_type": "code",
   "execution_count": null,
   "metadata": {},
   "outputs": [],
   "source": [
    "class fully_connected_layers(tf.keras.layers.Layer):\n",
    "    def __init__(self,n=32,**kwargs):\n",
    "        super().__init__(**kwargs)\n",
    "\n",
    "        self.flatten = tf.keras.layers.Flatten()\n",
    "        self.hidden1 = tf.keras.layers.Dense(units=128, activation='relu', kernel_initializer='he_normal')\n",
    "        self.hidden2 = tf.keras.layers.Dense(units=64, activation='relu', kernel_initializer='he_normal')\n",
    "        self.hidden3 = tf.keras.layers.Dense(units=10, activation='linear', kernel_initializer='he_normal')\n",
    "        self.dropout = tf.keras.layers.Dropout(0.2)\n",
    "        \n",
    "    def call(self,inputs,trainable = False):\n",
    "        if trainable == False: \n",
    "            self.resnet.trainable = False\n",
    "        if trainable == True: \n",
    "            self.resnet.trainable == True #unfreezes base model\n",
    "            for layer in self.resnet: #freezes batch normalization layers\n",
    "                if (isinstance(layer, tf.keras.layers.BatchNormalization)):\n",
    "                    layer.trainable = False\n",
    "                    \n",
    "        X = self.flatten(X)\n",
    "        X = self.hidden1(X)\n",
    "        X = self.dropout(X)\n",
    "        X = self.hidden2(X)\n",
    "        X = self.dropout(X)\n",
    "        return self.hidden3(X)\n",
    "    \n",
    "fully_connected_layers = fully_connected_layers()"
   ]
  },
  {
   "cell_type": "code",
   "execution_count": null,
   "metadata": {},
   "outputs": [],
   "source": [
    "inputs_resnet = tf.keras.Input(shape=(28,28,3), name='Input')\n",
    "x_resnet = tf.keras.layers.Resizing(32,32)(inputs_resnet)\n",
    "print(x_resnet)\n",
    "x_resnet = ResNet50(x_resnet)\n",
    "outputs_resnet = fully_connected_layers(x_resnet)\n",
    "\n",
    "model_resnet = tf.keras.Model(inputs_resnet, outputs_resnet)\n",
    "\n",
    "test_model.compile(loss=tf.keras.losses.SparseCategoricalCrossentropy(from_logits=True),\n",
    "               optimizer = tf.keras.optimizers.Adam(0.001),\n",
    "               metrics = ['accuracy'])"
   ]
  },
  {
   "cell_type": "code",
   "execution_count": null,
   "metadata": {},
   "outputs": [],
   "source": [
    "test_model.fit(X_train[:5000], y_train[:5000], epochs=ft_iter, validation_data=(X_valid, y_valid),callbacks=[save_weights])"
   ]
  },
  {
   "cell_type": "code",
   "execution_count": null,
   "metadata": {},
   "outputs": [],
   "source": [
    "top_model = tf.keras.Sequential([\n",
    "    tf.keras.layers.Flatten(),\n",
    "    tf.keras.layers.Dense(units=128, activation='relu', kernel_initializer='he_normal'),\n",
    "    tf.keras.layers.Dropout(0.2),\n",
    "    tf.keras.layers.Dense(units=64, activation='relu', kernel_initializer='he_normal'),\n",
    "    tf.keras.layers.Dropout(0.2),\n",
    "    tf.keras.layers.Dense(units=10,activation='linear',kernel_initializer='he_normal')\n",
    "],name='Fully_Connected_Layers')"
   ]
  },
  {
   "attachments": {},
   "cell_type": "markdown",
   "metadata": {},
   "source": [
    "### ResNet50"
   ]
  },
  {
   "cell_type": "code",
   "execution_count": null,
   "metadata": {},
   "outputs": [],
   "source": [
    "#load Resnet 50\n",
    "Resnet_50 = ResNet50(include_top=False, input_shape=(32,32,3),weights='imagenet')\n",
    "Resnet_50.trainable = False #freezes model \n",
    "Resnet_50.summary()"
   ]
  },
  {
   "cell_type": "code",
   "execution_count": null,
   "metadata": {},
   "outputs": [],
   "source": [
    "#create a new model on top \n",
    "inputs = tf.keras.Input(shape=(28,28,3), name='Input')\n",
    "x = tf.keras.layers.Resizing(32,32)(inputs)\n",
    "x = Resnet_50(x)\n",
    "outputs = top_model(x)\n",
    "model = tf.keras.Model(inputs, outputs)\n",
    "model.summary()"
   ]
  },
  {
   "cell_type": "code",
   "execution_count": null,
   "metadata": {},
   "outputs": [],
   "source": [
    "model.compile(loss=tf.keras.losses.SparseCategoricalCrossentropy(from_logits=True),\n",
    "               optimizer = tf.keras.optimizers.Adam(0.001),\n",
    "               metrics = ['accuracy'])"
   ]
  },
  {
   "cell_type": "code",
   "execution_count": null,
   "metadata": {},
   "outputs": [],
   "source": [
    "save_weights = ModelCheckpoint('weights_Resnet50_t.h5', save_best_only=True, save_weights_only=True)"
   ]
  },
  {
   "cell_type": "code",
   "execution_count": null,
   "metadata": {},
   "outputs": [],
   "source": [
    "#just training the top layers\n",
    "#model.load_weights('weights_Resnet50_t.h5')\n",
    "\n",
    "history_resnet = model.fit(X_train, y_train, epochs=fc_iter, validation_data=(X_valid, y_valid),callbacks=[save_weights])\n",
    "acc = history_resnet.history['accuracy']\n",
    "val_acc = history_resnet.history['val_accuracy']\n",
    "loss = history_resnet.history['loss']\n",
    "val_loss = history_resnet.history['val_loss']\n",
    "\n",
    "model.save_weights('weights_Resnet50_t.h5')"
   ]
  },
  {
   "attachments": {},
   "cell_type": "markdown",
   "metadata": {},
   "source": [
    "#fine tuning the whole model \n",
    "\n",
    "model.load_weights('weights_Resnet50_t.h5')\n",
    "\n",
    "Resnet_50.trainable = True #unfreezes base model\n",
    " \n",
    "for layer in Resnet_50.layers: #freezes batch normalization layers\n",
    "    if ('bn' in layer.name):\n",
    "        layer.trainable = False\n",
    "        \n",
    "#check that BN layers are set to training = False\n",
    "#for layer in Resnet_50.layers:\n",
    "#    if layer.trainable:\n",
    "#        print (layer.name)\n",
    "\n",
    "model.compile(loss=tf.keras.losses.SparseCategoricalCrossentropy(from_logits=True),\n",
    "               optimizer = tf.keras.optimizers.Adam(1e-6),\n",
    "               metrics = ['accuracy'])"
   ]
  },
  {
   "cell_type": "code",
   "execution_count": null,
   "metadata": {},
   "outputs": [],
   "source": [
    "history_resnet = model.fit(X_train[:5000], y_train[:5000], epochs=ft_iter, validation_data=(X_valid, y_valid),callbacks=[save_weights])\n",
    "acc += history_resnet.history['accuracy']\n",
    "val_acc += history_resnet.history['val_accuracy']\n",
    "loss += history_resnet.history['loss']\n",
    "val_loss += history_resnet.history['val_loss']"
   ]
  },
  {
   "cell_type": "code",
   "execution_count": null,
   "metadata": {},
   "outputs": [],
   "source": [
    "plt.figure(figsize=(8, 8))\n",
    "plt.subplot(2, 1, 1)\n",
    "plt.plot(acc, label='Training Accuracy')\n",
    "plt.plot(val_acc, label='Validation Accuracy')\n",
    "#plt.ylim([0.8, 1])\n",
    "plt.plot([fc_iter-1,fc_iter-1],\n",
    "          plt.ylim(), label='Start Fine Tuning')\n",
    "plt.legend(loc='lower right')\n",
    "plt.title('Training and Validation Accuracy')\n",
    "\n",
    "plt.subplot(2, 1, 2)\n",
    "plt.plot(loss, label='Training Loss')\n",
    "plt.plot(val_loss, label='Validation Loss')\n",
    "#plt.ylim([0, 1.0])\n",
    "plt.plot([fc_iter-1,fc_iter-1],\n",
    "         plt.ylim(), label='Start Fine Tuning')\n",
    "plt.legend(loc='upper right')\n",
    "plt.title('Training and Validation Loss')\n",
    "plt.xlabel('epoch')\n",
    "plt.show()"
   ]
  },
  {
   "cell_type": "code",
   "execution_count": null,
   "metadata": {},
   "outputs": [],
   "source": [
    "y_pred = model.predict(X_test).argmax(axis=1)\n",
    "resnet_score = accuracy_score(y_test,y_pred)"
   ]
  },
  {
   "attachments": {},
   "cell_type": "markdown",
   "metadata": {},
   "source": [
    "### Inception V3"
   ]
  },
  {
   "cell_type": "code",
   "execution_count": null,
   "metadata": {},
   "outputs": [],
   "source": [
    "#load Inception V3\n",
    "inception_V3 = InceptionV3(include_top=False, input_shape=(75,75,3),weights='imagenet')\n",
    "inception_V3.trainable = False #freezes model \n",
    "inception_V3.summary()"
   ]
  },
  {
   "cell_type": "code",
   "execution_count": null,
   "metadata": {},
   "outputs": [],
   "source": [
    "top_model = tf.keras.Sequential([\n",
    "    tf.keras.layers.Flatten(),\n",
    "    tf.keras.layers.Dense(units=128, activation='relu', kernel_initializer='he_normal'),\n",
    "    tf.keras.layers.Dropout(0.2),\n",
    "    tf.keras.layers.Dense(units=64, activation='relu', kernel_initializer='he_normal'),\n",
    "    tf.keras.layers.Dropout(0.2),\n",
    "    tf.keras.layers.Dense(units=10,activation='linear',kernel_initializer='he_normal')\n",
    "],name='Fully_Connected_Layers')"
   ]
  },
  {
   "cell_type": "code",
   "execution_count": null,
   "metadata": {},
   "outputs": [],
   "source": [
    "#add fully connected layers\n",
    "inputs_inception = tf.keras.Input(shape=(28,28,3), name='Input')\n",
    "xx = tf.keras.layers.Resizing(75,75)(inputs_inception)\n",
    "xx = inception_V3(xx)\n",
    "outputs_inception = top_model(xx)\n",
    "\n",
    "model_inception = tf.keras.Model(inputs_inception, outputs_inception)\n",
    "model_inception.summary()"
   ]
  },
  {
   "cell_type": "code",
   "execution_count": null,
   "metadata": {},
   "outputs": [],
   "source": [
    "save_weights_inception = ModelCheckpoint('weights_inceptionV3_t.h5', save_best_only=True, save_weights_only=True)"
   ]
  },
  {
   "cell_type": "code",
   "execution_count": null,
   "metadata": {},
   "outputs": [],
   "source": [
    "model_inception.compile(loss=tf.keras.losses.SparseCategoricalCrossentropy(from_logits=True),\n",
    "               optimizer = tf.keras.optimizers.Adam(0.001),\n",
    "               metrics = ['accuracy'])"
   ]
  },
  {
   "cell_type": "code",
   "execution_count": null,
   "metadata": {},
   "outputs": [],
   "source": [
    "#just training the top layers\n",
    "#model_inception.load_weights('weights_inceptionV3_t.h5')\n",
    "model_inception.fit(X_train, y_train, epochs=fc_iter, validation_data=(X_valid, y_valid),callbacks=[save_weights_inception])\n",
    "model_inception.save_weights('weights_inceptionV3_t.h5')"
   ]
  },
  {
   "cell_type": "code",
   "execution_count": null,
   "metadata": {},
   "outputs": [],
   "source": [
    "#fine tuning the whole model \n",
    "#model_inception.load_weights('weights_inceptionV3_t.h5')\n",
    "inception_V3.trainable = True #unfreezes base model\n",
    "\n",
    "for layer in inception_V3.layers: #freezes batch normalization layers\n",
    "    if (isinstance(layer, tf.keras.layers.BatchNormalization)):\n",
    "        layer.trainable = False\n",
    "        \n",
    "#check that BN layers are set to training = False\n",
    "#for layer in inception_V3.layers:\n",
    "    #if layer.trainable == False:\n",
    "        #print (layer.name)\n",
    "        \n",
    "\n",
    "model_inception.compile(loss=tf.keras.losses.SparseCategoricalCrossentropy(from_logits=True),\n",
    "               optimizer = tf.keras.optimizers.Adam(1e-5),\n",
    "               metrics = ['accuracy'])"
   ]
  },
  {
   "cell_type": "code",
   "execution_count": null,
   "metadata": {},
   "outputs": [],
   "source": [
    "model_inception.fit(X_train, y_train, epochs=ft_iter, validation_data=(X_valid, y_valid), callbacks=[save_weights_inception])"
   ]
  },
  {
   "cell_type": "code",
   "execution_count": null,
   "metadata": {},
   "outputs": [],
   "source": [
    "y_pred = model_inception.predict(X_test).argmax(axis=1)\n",
    "inception_score = accuracy_score(y_test,y_pred)\n",
    "inception_score"
   ]
  },
  {
   "attachments": {},
   "cell_type": "markdown",
   "metadata": {},
   "source": [
    "### Mobile Net"
   ]
  },
  {
   "cell_type": "code",
   "execution_count": null,
   "metadata": {},
   "outputs": [],
   "source": [
    "#load mobile net\n",
    "mobile_net = MobileNet(include_top=False, input_shape=(32,32,3),weights='imagenet')\n",
    "mobile_net.trainable = False #freezes model \n",
    "mobile_net.summary()"
   ]
  },
  {
   "cell_type": "code",
   "execution_count": null,
   "metadata": {},
   "outputs": [],
   "source": [
    "top_model = tf.keras.Sequential([\n",
    "    tf.keras.layers.Flatten(),\n",
    "    tf.keras.layers.Dense(units=128, activation='relu', kernel_initializer='he_normal'),\n",
    "    tf.keras.layers.Dropout(0.2),\n",
    "    tf.keras.layers.Dense(units=64, activation='relu', kernel_initializer='he_normal'),\n",
    "    tf.keras.layers.Dropout(0.2),\n",
    "    tf.keras.layers.Dense(units=10,activation='linear',kernel_initializer='he_normal')\n",
    "],name='Fully_Connected_Layers')"
   ]
  },
  {
   "cell_type": "code",
   "execution_count": null,
   "metadata": {},
   "outputs": [],
   "source": [
    "#add fully connected layers\n",
    "inputs_mobile = tf.keras.Input(shape=(28,28,3), name='Input')\n",
    "xxx = tf.keras.layers.Resizing(32,32)(inputs_mobile)\n",
    "xxx = mobile_net(xxx)\n",
    "outputs_mobile = top_model(xxx)\n",
    "\n",
    "model_mobile = tf.keras.Model(inputs_mobile, outputs_mobile)\n",
    "model_mobile.summary()"
   ]
  },
  {
   "cell_type": "code",
   "execution_count": null,
   "metadata": {},
   "outputs": [],
   "source": [
    "save_weights_mobile = ModelCheckpoint('weights_mobilenet_t', save_best_only=True, save_weights_only=True)"
   ]
  },
  {
   "cell_type": "code",
   "execution_count": null,
   "metadata": {},
   "outputs": [],
   "source": [
    "model_mobile.compile(loss=tf.keras.losses.SparseCategoricalCrossentropy(from_logits=True),\n",
    "               optimizer = tf.keras.optimizers.Adam(0.001),\n",
    "               metrics = ['accuracy'])"
   ]
  },
  {
   "cell_type": "code",
   "execution_count": null,
   "metadata": {},
   "outputs": [],
   "source": [
    "#just training the top layers\n",
    "#model.load_weights('weights_mobilenet_t.h5')\n",
    "model_mobile.fit(X_train, y_train, epochs=fc_iter, validation_data=(X_valid, y_valid),callbacks=[save_weights_mobile])\n",
    "model_mobile.save_weights('weights_mobilenet_t.h5')"
   ]
  },
  {
   "cell_type": "code",
   "execution_count": null,
   "metadata": {},
   "outputs": [],
   "source": [
    "#fine tuning the whole model \n",
    "#model_mobile.load_weights('weights_mobilenet_t.h5')\n",
    "mobile_net.trainable = True #unfreezes base model\n",
    "\n",
    "for layer in mobile_net.layers: #freezes batch normalization layers\n",
    "    if isinstance(layer,tf.keras.layers.BatchNormalization):\n",
    "        layer.trainable = False\n",
    "        \n",
    "model_mobile.compile(loss=tf.keras.losses.SparseCategoricalCrossentropy(from_logits=True),\n",
    "               optimizer = tf.keras.optimizers.Adam(1e-5),\n",
    "               metrics = ['accuracy'])"
   ]
  },
  {
   "cell_type": "code",
   "execution_count": null,
   "metadata": {},
   "outputs": [],
   "source": [
    "model_mobile.fit(X_train, y_train, epochs=ft_iter, validation_data=(X_valid, y_valid),callbacks=[save_weights_mobile])"
   ]
  },
  {
   "cell_type": "code",
   "execution_count": null,
   "metadata": {},
   "outputs": [],
   "source": [
    "y_pred = model_mobile.predict(X_test).argmax(axis=1)\n",
    "mobile_score = accuracy_score(y_test,y_pred)\n",
    "mobile_score"
   ]
  }
 ],
 "metadata": {
  "kernelspec": {
   "display_name": "python310",
   "language": "python",
   "name": "python3"
  },
  "language_info": {
   "codemirror_mode": {
    "name": "ipython",
    "version": 3
   },
   "file_extension": ".py",
   "mimetype": "text/x-python",
   "name": "python",
   "nbconvert_exporter": "python",
   "pygments_lexer": "ipython3",
   "version": "3.10.0"
  },
  "orig_nbformat": 4
 },
 "nbformat": 4,
 "nbformat_minor": 2
}
