{
 "cells": [
  {
   "attachments": {},
   "cell_type": "markdown",
   "metadata": {},
   "source": [
    "# Handwritten digit classification via transfer learning\n",
    "\n",
    "... to decode the MNIST 784 dataset. This dataset contains a subset of 70,000 size-normalized and centered hand written digits. Previously a convolutional neural network was built with 99.6% accuracy.\n",
    "\n",
    "..."
   ]
  },
  {
   "cell_type": "code",
   "execution_count": 1,
   "metadata": {},
   "outputs": [],
   "source": [
    "from sklearn.datasets import fetch_openml\n",
    "from sklearn.metrics import accuracy_score\n",
    "import matplotlib.pyplot as plt\n",
    "import numpy as np\n",
    "import tensorflow as tf\n",
    "from tensorflow.keras.applications import ResNet50, MobileNet\n",
    "from tensorflow.keras.applications.inception_v3 import InceptionV3\n",
    "from keras.callbacks import EarlyStopping, ModelCheckpoint\n",
    "from keras.callbacks import ModelCheckpoint\n",
    "import os\n",
    "import pickle\n",
    "import pandas as pd"
   ]
  },
  {
   "cell_type": "code",
   "execution_count": 2,
   "metadata": {},
   "outputs": [
    {
     "data": {
      "text/plain": [
       "'C:\\\\Users\\\\corne\\\\OneDrive\\\\Documents\\\\DS_Portfolio\\\\MNIST784_transfer_learning'"
      ]
     },
     "execution_count": 2,
     "metadata": {},
     "output_type": "execute_result"
    }
   ],
   "source": [
    "os.chdir('C:\\\\Users\\\\corne\\\\OneDrive\\\\Documents\\\\DS_Portfolio\\\\MNIST784_transfer_learning')\n",
    "os.getcwd()"
   ]
  },
  {
   "attachments": {},
   "cell_type": "markdown",
   "metadata": {},
   "source": [
    "### Preprocessing data"
   ]
  },
  {
   "cell_type": "code",
   "execution_count": 3,
   "metadata": {},
   "outputs": [],
   "source": [
    "#Loading MNIST_784 dataset from OpenML\n",
    "mnist = fetch_openml('mnist_784', as_frame = False, parser='auto') \n",
    "X,y = mnist.data.reshape(-1,28,28,1), mnist.target.reshape(-1,1)\n",
    "y = y.astype(np.int64)"
   ]
  },
  {
   "cell_type": "code",
   "execution_count": 4,
   "metadata": {},
   "outputs": [
    {
     "name": "stdout",
     "output_type": "stream",
     "text": [
      "X range before rescaling:\n",
      "0 255\n",
      "X range after rescaling\n",
      "-1.0 1.0\n",
      "X mean: -0.74\n",
      " X std: 0.62\n"
     ]
    }
   ],
   "source": [
    "#rescaling X\n",
    "print('X range before rescaling:')\n",
    "print(round(X[0].min(),2), round(X[0].max(),2))\n",
    "\n",
    "X = X/127.5-1\n",
    "print('X range after rescaling')\n",
    "print(round(X[0].min(),2), round(X[0].max(),2))\n",
    "print(f'X mean: {round(X.mean(),2)}')\n",
    "print(f' X std: {round(X.std(),2)}')\n"
   ]
  },
  {
   "cell_type": "code",
   "execution_count": 5,
   "metadata": {},
   "outputs": [],
   "source": [
    "#Defining function to look at a digit\n",
    "def show_num(input_pic):\n",
    "  plt.imshow(input_pic,cmap='binary')\n",
    "  plt.axis(False)"
   ]
  },
  {
   "cell_type": "code",
   "execution_count": 6,
   "metadata": {},
   "outputs": [
    {
     "name": "stdout",
     "output_type": "stream",
     "text": [
      "Image shape before:\n",
      "(70000, 28, 28, 1)\n",
      "Image shape after:\n",
      "(70000, 28, 28, 3)\n",
      "\n",
      "Checking Image:\n"
     ]
    },
    {
     "data": {
      "image/png": "[encoded data removed]",
      "text/plain": [
       "<Figure size 640x480 with 3 Axes>"
      ]
     },
     "metadata": {},
     "output_type": "display_data"
    }
   ],
   "source": [
    "#repeating gray scale image in 3 channel format for compatability with three channel format \n",
    "#of the pre-trained network\n",
    "\n",
    "print('Image shape before:')\n",
    "print(X.shape)  \n",
    "X_rgb = np.repeat(X,3,axis=-1)\n",
    "print('Image shape after:')\n",
    "print(X_rgb.shape)\n",
    "\n",
    "print('\\nChecking Image:')\n",
    "#checking repeat image \n",
    "for n in range(3):\n",
    "    ax = plt.subplot(1,3,n+1)\n",
    "    show_num(X_rgb[0][:,:,n])"
   ]
  },
  {
   "cell_type": "code",
   "execution_count": 7,
   "metadata": {},
   "outputs": [],
   "source": [
    "#Making test and train sets\n",
    "X_train, y_train, X_valid, y_valid, X_test, y_test = X_rgb[:60000], y[:60000],X_rgb[60000:65000],y[60000:65000],X_rgb[65000:],y[65000:]\n",
    "\n",
    "train_data = (X_train, y_train, X_valid, y_valid)\n",
    "test_data = (X_test, y_test)"
   ]
  },
  {
   "attachments": {},
   "cell_type": "markdown",
   "metadata": {},
   "source": [
    "### Building and training transfer learning models"
   ]
  },
  {
   "cell_type": "code",
   "execution_count": 8,
   "metadata": {},
   "outputs": [],
   "source": [
    "#function for creating transfer learning model\n",
    "\n",
    "def build(t_model, input_size):\n",
    "    #creates transfer model\n",
    "    transfer_model = t_model(include_top=False, input_shape=(input_size,input_size,3),weights='imagenet')\n",
    "    transfer_model.trainable = False #freezes model \n",
    "    #note: setting trainable to false also sets training to false for BN layers in tf version 2.0 and above\n",
    "\n",
    "    #creates model with fully connected layers\n",
    "    print('Building model...')\n",
    "    inputs = tf.keras.Input(shape=(28,28,3), name='Input')\n",
    "    x = tf.keras.layers.Resizing(input_size, input_size)(inputs)\n",
    "    x = transfer_model(x)\n",
    "    x = tf.keras.layers.Flatten()(x)\n",
    "    x = tf.keras.layers.Dense(units=128, activation='relu', kernel_initializer='he_normal')(x)\n",
    "    x = tf.keras.layers.Dropout(0.2)(x)\n",
    "    x = tf.keras.layers.Dense(units=64, activation='relu', kernel_initializer='he_normal')(x)\n",
    "    x = tf.keras.layers.Dropout(0.2)(x)\n",
    "    outputs = tf.keras.layers.Dense(units=10,activation='linear',kernel_initializer='he_normal')(x)\n",
    "    model = tf.keras.Model(inputs, outputs)\n",
    "\n",
    "    print(model.summary())\n",
    "\n",
    "    \n",
    "    #compile model \n",
    "    model.compile(loss=tf.keras.losses.SparseCategoricalCrossentropy(from_logits=True),\n",
    "            optimizer = tf.keras.optimizers.Adam(0.0001),\n",
    "            metrics = ['accuracy'])\n",
    "    \n",
    "\n",
    "    return(model)"
   ]
  },
  {
   "cell_type": "code",
   "execution_count": 9,
   "metadata": {},
   "outputs": [],
   "source": [
    "def train_FC(model, train_data, iters):\n",
    "    #creating callback to save best weights \n",
    "    weight_name = 'weights_'+str(model.layers[2].name)+'_fc.h5'\n",
    "    save_weights = ModelCheckpoint(weight_name, save_best_only=True, save_weights_only=True)\n",
    "    early_stopping = EarlyStopping(monitor='val_accuracy',patience=10, restore_best_weights=True)\n",
    "\n",
    "    #training top layers\n",
    "    print('Training top layers...')\n",
    "    history = model.fit(train_data[0], train_data[1], validation_data=(train_data[2:]), epochs = iters[0],callbacks=[save_weights, early_stopping],verbose=0)\n",
    "\n",
    "    #saving weights\n",
    "    #model.save_weights(weight_name)\n",
    "    \n",
    "    return(model, history)"
   ]
  },
  {
   "cell_type": "code",
   "execution_count": 10,
   "metadata": {},
   "outputs": [],
   "source": [
    "def fine_tune(model, train_data, iters):\n",
    "    print('Fine tuning all layers...')\n",
    "    \n",
    "    #unfreezing transfer model\n",
    "    model.layers[2].trainable = True \n",
    "    #print(str(model.layers[2].name),str(model.layers[2].trainable))\n",
    "\n",
    "    #Checking that BN layers are in inference mode and all layers are trainable\n",
    "    for layer in model.layers[2].layers: \n",
    "        if (isinstance(layer, tf.keras.layers.BatchNormalization)):\n",
    "            layer.trainable = False\n",
    "        else: assert layer.trainable == True\n",
    "\n",
    "    #compiling model\n",
    "    model.compile(loss=tf.keras.losses.SparseCategoricalCrossentropy(from_logits=True),\n",
    "        optimizer = tf.keras.optimizers.Adam(1e-6),\n",
    "        metrics = ['accuracy'])\n",
    "\n",
    "    #creatubg callbacks \n",
    "    weight_name = 'weights_'+str(model.layers[2].name)+'_ft.h5'\n",
    "    save_weights = ModelCheckpoint(weight_name, save_best_only=True, save_weights_only=True)\n",
    "    early_stopping = EarlyStopping(monitor='val_accuracy',patience=10, restore_best_weights=True)\n",
    "\n",
    "    #training model\n",
    "    history = model.fit(train_data[0], train_data[1], validation_data = (train_data[2:]), epochs = iters[1],callbacks=[save_weights,early_stopping],verbose=0)\n",
    "\n",
    "    trained_models.append(model)\n",
    "    #saving weights\n",
    "    #model.save_weights(weight_name)\n",
    "\n",
    "    return(model, history)"
   ]
  },
  {
   "cell_type": "code",
   "execution_count": 11,
   "metadata": {},
   "outputs": [],
   "source": [
    "def build_and_train(t_model, input_size, train_data, iters):\n",
    "    model = build(t_model, input_size)\n",
    "\n",
    "    model, history = train_FC(model, train_data, iters)\n",
    "    acc = history.history['accuracy']\n",
    "    val_acc = history.history['val_accuracy']\n",
    "    loss = history.history['loss']\n",
    "    val_loss = history.history['val_loss']\n",
    "    fc_epochs = len(acc)\n",
    "\n",
    "    model, history = fine_tune(model, train_data, iters)\n",
    "    acc += history.history['accuracy']\n",
    "    val_acc += history.history['val_accuracy']\n",
    "    loss += history.history['loss']\n",
    "    val_loss += history.history['val_loss']\n",
    "\n",
    "    scores = (acc, val_acc, loss, val_loss, fc_epochs)\n",
    "    #pickles scores\n",
    "    pickle_name = t_model.__name__+'_scores.pkl'\n",
    "    pickle.dump(scores, open(pickle_name, 'wb'))\n",
    "\n",
    "    return(model,scores)\n",
    "    "
   ]
  },
  {
   "cell_type": "code",
   "execution_count": 12,
   "metadata": {},
   "outputs": [],
   "source": [
    "def predict(model, test_data):\n",
    "    y_pred = model.predict(test_data[0]).argmax(axis=1)\n",
    "    return accuracy_score(test_data[1],y_pred)"
   ]
  },
  {
   "attachments": {},
   "cell_type": "markdown",
   "metadata": {},
   "source": [
    "## Models"
   ]
  },
  {
   "cell_type": "code",
   "execution_count": 13,
   "metadata": {},
   "outputs": [],
   "source": [
    "#fully connected training iterations\n",
    "fc_iter = 1000\n",
    "\n",
    "#fine tuning traiing iterations\n",
    "ft_iter = 100\n",
    "\n",
    "iters = (fc_iter, ft_iter)"
   ]
  },
  {
   "cell_type": "code",
   "execution_count": 14,
   "metadata": {},
   "outputs": [],
   "source": [
    "scores = []\n",
    "trained_models = []\n",
    "model_names = ['Resnet50','InceptionV3','Mobilenet']"
   ]
  },
  {
   "cell_type": "code",
   "execution_count": 15,
   "metadata": {},
   "outputs": [
    {
     "name": "stdout",
     "output_type": "stream",
     "text": [
      "Building model...\n",
      "Model: \"model\"\n",
      "_________________________________________________________________\n",
      " Layer (type)                Output Shape              Param #   \n",
      "=================================================================\n",
      " Input (InputLayer)          [(None, 28, 28, 3)]       0         \n",
      "                                                                 \n",
      " resizing (Resizing)         (None, 32, 32, 3)         0         \n",
      "                                                                 \n",
      " resnet50 (Functional)       (None, 1, 1, 2048)        23587712  \n",
      "                                                                 \n",
      " flatten (Flatten)           (None, 2048)              0         \n",
      "                                                                 \n",
      " dense (Dense)               (None, 128)               262272    \n",
      "                                                                 \n",
      " dropout (Dropout)           (None, 128)               0         \n",
      "                                                                 \n",
      " dense_1 (Dense)             (None, 64)                8256      \n",
      "                                                                 \n",
      " dropout_1 (Dropout)         (None, 64)                0         \n",
      "                                                                 \n",
      " dense_2 (Dense)             (None, 10)                650       \n",
      "                                                                 \n",
      "=================================================================\n",
      "Total params: 23,858,890\n",
      "Trainable params: 271,178\n",
      "Non-trainable params: 23,587,712\n",
      "_________________________________________________________________\n",
      "None\n",
      "Training top layers...\n",
      "Fine tuning all layers...\n"
     ]
    }
   ],
   "source": [
    "resnet_model, resnet_score = build_and_train(ResNet50,32,train_data,iters)\n",
    "scores.append(resnet_score)"
   ]
  },
  {
   "cell_type": "code",
   "execution_count": 16,
   "metadata": {},
   "outputs": [
    {
     "name": "stdout",
     "output_type": "stream",
     "text": [
      "Building model...\n",
      "Model: \"model_1\"\n",
      "_________________________________________________________________\n",
      " Layer (type)                Output Shape              Param #   \n",
      "=================================================================\n",
      " Input (InputLayer)          [(None, 28, 28, 3)]       0         \n",
      "                                                                 \n",
      " resizing_1 (Resizing)       (None, 75, 75, 3)         0         \n",
      "                                                                 \n",
      " inception_v3 (Functional)   (None, 1, 1, 2048)        21802784  \n",
      "                                                                 \n",
      " flatten_1 (Flatten)         (None, 2048)              0         \n",
      "                                                                 \n",
      " dense_3 (Dense)             (None, 128)               262272    \n",
      "                                                                 \n",
      " dropout_2 (Dropout)         (None, 128)               0         \n",
      "                                                                 \n",
      " dense_4 (Dense)             (None, 64)                8256      \n",
      "                                                                 \n",
      " dropout_3 (Dropout)         (None, 64)                0         \n",
      "                                                                 \n",
      " dense_5 (Dense)             (None, 10)                650       \n",
      "                                                                 \n",
      "=================================================================\n",
      "Total params: 22,073,962\n",
      "Trainable params: 271,178\n",
      "Non-trainable params: 21,802,784\n",
      "_________________________________________________________________\n",
      "None\n",
      "Training top layers...\n",
      "Fine tuning all layers...\n"
     ]
    }
   ],
   "source": [
    "inception_model, inception_score = build_and_train(InceptionV3,75,train_data,iters)\n",
    "scores.append(inception_score)"
   ]
  },
  {
   "cell_type": "code",
   "execution_count": 17,
   "metadata": {},
   "outputs": [
    {
     "name": "stdout",
     "output_type": "stream",
     "text": [
      "WARNING:tensorflow:`input_shape` is undefined or non-square, or `rows` is not in [128, 160, 192, 224]. Weights for input shape (224, 224) will be loaded as the default.\n",
      "Building model...\n",
      "Model: \"model_2\"\n",
      "_________________________________________________________________\n",
      " Layer (type)                Output Shape              Param #   \n",
      "=================================================================\n",
      " Input (InputLayer)          [(None, 28, 28, 3)]       0         \n",
      "                                                                 \n",
      " resizing_2 (Resizing)       (None, 32, 32, 3)         0         \n",
      "                                                                 \n",
      " mobilenet_1.00_224 (Functio  (None, 1, 1, 1024)       3228864   \n",
      " nal)                                                            \n",
      "                                                                 \n",
      " flatten_2 (Flatten)         (None, 1024)              0         \n",
      "                                                                 \n",
      " dense_6 (Dense)             (None, 128)               131200    \n",
      "                                                                 \n",
      " dropout_4 (Dropout)         (None, 128)               0         \n",
      "                                                                 \n",
      " dense_7 (Dense)             (None, 64)                8256      \n",
      "                                                                 \n",
      " dropout_5 (Dropout)         (None, 64)                0         \n",
      "                                                                 \n",
      " dense_8 (Dense)             (None, 10)                650       \n",
      "                                                                 \n",
      "=================================================================\n",
      "Total params: 3,368,970\n",
      "Trainable params: 140,106\n",
      "Non-trainable params: 3,228,864\n",
      "_________________________________________________________________\n",
      "None\n",
      "Training top layers...\n",
      "Fine tuning all layers...\n"
     ]
    }
   ],
   "source": [
    "mobilenet_model, mobilenet_score = build_and_train(MobileNet,32,train_data,iters)\n",
    "scores.append(mobilenet_score)"
   ]
  },
  {
   "attachments": {},
   "cell_type": "markdown",
   "metadata": {},
   "source": [
    "### Visualizing training"
   ]
  },
  {
   "cell_type": "code",
   "execution_count": 18,
   "metadata": {},
   "outputs": [],
   "source": [
    "def model_scores(score):\n",
    "    acc = score[0]\n",
    "    val_acc = score[1]\n",
    "    loss = score[2]\n",
    "    val_loss = score[3]\n",
    "    training_epochs = score[4]\n",
    "    return acc, val_acc, loss, val_loss, training_epochs"
   ]
  },
  {
   "cell_type": "code",
   "execution_count": 19,
   "metadata": {},
   "outputs": [
    {
     "name": "stderr",
     "output_type": "stream",
     "text": [
      "No artists with labels found to put in legend.  Note that artists whose label start with an underscore are ignored when legend() is called with no argument.\n",
      "No artists with labels found to put in legend.  Note that artists whose label start with an underscore are ignored when legend() is called with no argument.\n",
      "No artists with labels found to put in legend.  Note that artists whose label start with an underscore are ignored when legend() is called with no argument.\n",
      "No artists with labels found to put in legend.  Note that artists whose label start with an underscore are ignored when legend() is called with no argument.\n",
      "No artists with labels found to put in legend.  Note that artists whose label start with an underscore are ignored when legend() is called with no argument.\n"
     ]
    },
    {
     "data": {
      "image/png": "[encoded data removed]",
      "text/plain": [
       "<Figure size 800x600 with 6 Axes>"
      ]
     },
     "metadata": {},
     "output_type": "display_data"
    }
   ],
   "source": [
    "count = 1\n",
    "plt.style.use('ggplot')\n",
    "plt.figure(figsize=(8, 6))\n",
    "for score in scores:\n",
    "    acc, val_acc, loss, val_loss, training_epochs = model_scores(score)\n",
    "    x_range = range(1,len(acc)+1)\n",
    "\n",
    "    #selecting legend entry \n",
    "    if count == 1:\n",
    "        label_train = 'Training'\n",
    "        label_val= 'Validation'\n",
    "    else: \n",
    "        label_train = None\n",
    "        label_val = None\n",
    "\n",
    "    plt.subplot(2, 3, count)\n",
    "    plt.plot(x_range, acc, label=label_train)\n",
    "    plt.plot(x_range, val_acc, label=label_val)\n",
    "    #plt.ylim([0.8, 1])\n",
    "    plt.plot([training_epochs, training_epochs],plt.ylim(), c = 'black',linewidth=.5,label=None)\n",
    "    plt.legend(loc=2,frameon=False)\n",
    "    if count == 1:\n",
    "        plt.ylabel('Accuracy')\n",
    "        plt.legend(frameon=True)\n",
    "\n",
    "    plt.title(model_names[count-1])\n",
    "\n",
    "    plt.subplot(2, 3, count+3)\n",
    "    plt.plot(x_range, loss, label=None)\n",
    "    plt.plot(x_range, val_loss, label=None)\n",
    "    #plt.ylim([0, 1.0])\n",
    "    plt.plot([training_epochs, training_epochs],plt.ylim(), c='k', linewidth=0.5,label=None)\n",
    "    plt.legend(loc=2,frameon=False)\n",
    "    plt.xlabel('epoch')\n",
    "    if count == 1:\n",
    "        plt.ylabel('Loss')\n",
    "    \n",
    "    count +=1\n",
    "\n",
    "plt.tight_layout()"
   ]
  },
  {
   "attachments": {},
   "cell_type": "markdown",
   "metadata": {},
   "source": [
    "## Model performance"
   ]
  },
  {
   "cell_type": "code",
   "execution_count": 21,
   "metadata": {},
   "outputs": [
    {
     "name": "stdout",
     "output_type": "stream",
     "text": [
      "157/157 [==============================] - 15s 86ms/step\n",
      "157/157 [==============================] - 18s 114ms/step\n",
      "157/157 [==============================] - 5s 27ms/step\n",
      "[0.9912, 0.9932, 0.9912]\n"
     ]
    }
   ],
   "source": [
    "test_accuracy = [predict(model, test_data) for model in trained_models]\n",
    "print(test_accuracy)"
   ]
  },
  {
   "cell_type": "code",
   "execution_count": 35,
   "metadata": {},
   "outputs": [
    {
     "data": {
      "text/html": [
       "<div>\n",
       "<style scoped>\n",
       "    .dataframe tbody tr th:only-of-type {\n",
       "        vertical-align: middle;\n",
       "    }\n",
       "\n",
       "    .dataframe tbody tr th {\n",
       "        vertical-align: top;\n",
       "    }\n",
       "\n",
       "    .dataframe thead th {\n",
       "        text-align: right;\n",
       "    }\n",
       "</style>\n",
       "<table border=\"1\" class=\"dataframe\">\n",
       "  <thead>\n",
       "    <tr style=\"text-align: right;\">\n",
       "      <th></th>\n",
       "      <th>Accuracy</th>\n",
       "    </tr>\n",
       "  </thead>\n",
       "  <tbody>\n",
       "    <tr>\n",
       "      <th>Resnet50</th>\n",
       "      <td>0.9912</td>\n",
       "    </tr>\n",
       "    <tr>\n",
       "      <th>InceptionV3</th>\n",
       "      <td>0.9932</td>\n",
       "    </tr>\n",
       "    <tr>\n",
       "      <th>Mobilenet</th>\n",
       "      <td>0.9912</td>\n",
       "    </tr>\n",
       "  </tbody>\n",
       "</table>\n",
       "</div>"
      ],
      "text/plain": [
       "             Accuracy\n",
       "Resnet50       0.9912\n",
       "InceptionV3    0.9932\n",
       "Mobilenet      0.9912"
      ]
     },
     "execution_count": 35,
     "metadata": {},
     "output_type": "execute_result"
    }
   ],
   "source": [
    "pd.DataFrame(test_accuracy,index=model_names, columns=['Accuracy'])"
   ]
  }
 ],
 "metadata": {
  "kernelspec": {
   "display_name": "python310",
   "language": "python",
   "name": "python3"
  },
  "language_info": {
   "codemirror_mode": {
    "name": "ipython",
    "version": 3
   },
   "file_extension": ".py",
   "mimetype": "text/x-python",
   "name": "python",
   "nbconvert_exporter": "python",
   "pygments_lexer": "ipython3",
   "version": "3.10.0"
  },
  "orig_nbformat": 4
 },
 "nbformat": 4,
 "nbformat_minor": 2
}
