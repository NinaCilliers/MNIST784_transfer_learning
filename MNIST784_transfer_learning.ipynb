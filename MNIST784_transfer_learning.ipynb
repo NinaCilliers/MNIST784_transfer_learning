{
 "cells": [
  {
   "attachments": {},
   "cell_type": "markdown",
   "metadata": {},
   "source": [
    "# Handwritten digit classification with transfer learning: <br>Resnet50, Inception and Mobilenet\n",
    "\n",
    "## Project Overview \n",
    "\n",
    "In this project we utilize pre-trained convolutional neural networks to decode the MNIST 784 dataset. We use Resnet50, Inception and Mobilenet with pre-trained weights from the ImageNet dataset. The ImageNet data set contains 100,000 images corresponding to distinct synsets, synonym sets of related words. The features used to classify these images should work well to also classify our handwritten digits.\n",
    "\n",
    "We utilize the simple MNIST 784 dataset, which contains a subset of 70,000 size-normalized and centered handwritten digits. In a previous project, <i>Handwritten digit classification with 99.6% accuracy</i> a small convolutional neural network was built and achieved 99.6% accuracy through careful data augmentation on the same data set. This data set is used to minimize required pre-processing to focus on model development and also because of the availability of external performance scores for benchmarking. The features used to identify synsets in the Imagenet dataset should also work well to decode handwritten digits. \n",
    "\n",
    "Because of the modular design of this code, the head of each transfer model can easily be adjusted along with the input image size for utilization on any image set. Thus, the functions developed in this project can easily be applied to future projects classifying other images.\n"
   ]
  },
  {
   "cell_type": "code",
   "execution_count": 1,
   "metadata": {},
   "outputs": [],
   "source": [
    "from sklearn.datasets import fetch_openml\n",
    "from sklearn.metrics import accuracy_score\n",
    "import matplotlib.pyplot as plt\n",
    "import numpy as np\n",
    "import tensorflow as tf\n",
    "from tensorflow.keras.applications import ResNet50, MobileNet\n",
    "from tensorflow.keras.applications.inception_v3 import InceptionV3\n",
    "from keras.callbacks import EarlyStopping, ModelCheckpoint\n",
    "from keras.callbacks import ModelCheckpoint\n",
    "import os\n",
    "import pickle\n",
    "import pandas as pd"
   ]
  },
  {
   "cell_type": "code",
   "execution_count": 2,
   "metadata": {},
   "outputs": [
    {
     "data": {
      "text/plain": [
       "'C:\\\\Users\\\\corne\\\\OneDrive\\\\Documents\\\\DS_Portfolio\\\\MNIST784_transfer_learning'"
      ]
     },
     "execution_count": 2,
     "metadata": {},
     "output_type": "execute_result"
    }
   ],
   "source": [
    "os.chdir('C:\\\\Users\\\\corne\\\\OneDrive\\\\Documents\\\\DS_Portfolio\\\\MNIST784_transfer_learning')\n",
    "os.getcwd()"
   ]
  },
  {
   "attachments": {},
   "cell_type": "markdown",
   "metadata": {},
   "source": [
    "## Image pre-processing\n",
    "\n",
    "Preprocessing is intentionally minimal for this dataset. However, two adjustments are necessary for transfer model performance. First, data is rescaled from 0-255 to -1-1. Normalizing the pixel intensity improves model performance. Second, the shape of the images is adjusted from a 1-D black and white array to a 3-D RGB array by repeating the 1-D image three times. This is necessary as the input images used to train the transfer learning models require a three-channel format, as the shape of the weights of the base layer should not be modified and the models were trained using an RGB formatted image. \n"
   ]
  },
  {
   "cell_type": "code",
   "execution_count": 3,
   "metadata": {},
   "outputs": [],
   "source": [
    "#Loading MNIST_784 dataset from OpenML\n",
    "mnist = fetch_openml('mnist_784', as_frame = False, parser='auto') \n",
    "X,y = mnist.data.reshape(-1,28,28,1), mnist.target.reshape(-1,1)\n",
    "y = y.astype(np.int64)"
   ]
  },
  {
   "cell_type": "code",
   "execution_count": 44,
   "metadata": {},
   "outputs": [
    {
     "name": "stdout",
     "output_type": "stream",
     "text": [
      "X range before rescaling:\n",
      "-1.0 1.0\n",
      "X range after rescaling\n",
      "-1.01 -0.99\n"
     ]
    }
   ],
   "source": [
    "#rescaling X\n",
    "print('X range before rescaling:')\n",
    "print(round(X[0].min(),2), round(X[0].max(),2))\n",
    "\n",
    "X = X/127.5-1\n",
    "print('X range after rescaling')\n",
    "print(round(X[0].min(),2), round(X[0].max(),2))\n"
   ]
  },
  {
   "cell_type": "code",
   "execution_count": 5,
   "metadata": {},
   "outputs": [],
   "source": [
    "#Defining function to look at a digit\n",
    "def show_num(input_pic):\n",
    "  plt.imshow(input_pic,cmap='binary')\n",
    "  plt.axis(False)"
   ]
  },
  {
   "cell_type": "code",
   "execution_count": 6,
   "metadata": {},
   "outputs": [
    {
     "name": "stdout",
     "output_type": "stream",
     "text": [
      "Image shape before:\n",
      "(70000, 28, 28, 1)\n",
      "Image shape after:\n",
      "(70000, 28, 28, 3)\n",
      "\n",
      "Checking Image:\n"
     ]
    },
    {
     "data": {
      "image/png": "[encoded data removed]",
      "text/plain": [
       "<Figure size 640x480 with 3 Axes>"
      ]
     },
     "metadata": {},
     "output_type": "display_data"
    }
   ],
   "source": [
    "#repeating gray scale image in 3 channel format for compatability with three channel format \n",
    "#of the pre-trained network\n",
    "\n",
    "print('Image shape before:')\n",
    "print(X.shape)  \n",
    "X_rgb = np.repeat(X,3,axis=-1)\n",
    "print('Image shape after:')\n",
    "print(X_rgb.shape)\n",
    "\n",
    "print('\\nChecking Image:')\n",
    "#checking repeat image \n",
    "for n in range(3):\n",
    "    ax = plt.subplot(1,3,n+1)\n",
    "    show_num(X_rgb[0][:,:,n])"
   ]
  },
  {
   "cell_type": "code",
   "execution_count": 7,
   "metadata": {},
   "outputs": [],
   "source": [
    "#Making test and train sets\n",
    "X_train, y_train, X_valid, y_valid, X_test, y_test = X_rgb[:60000], y[:60000],X_rgb[60000:65000],y[60000:65000],X_rgb[65000:],y[65000:]\n",
    "\n",
    "train_data = (X_train, y_train, X_valid, y_valid)\n",
    "test_data = (X_test, y_test)"
   ]
  },
  {
   "attachments": {},
   "cell_type": "markdown",
   "metadata": {},
   "source": [
    "## Functions to build, train and evaluate models\n",
    "\n",
    "A function to build models is developed. By inputting the untrained transfer learning model and the desired size of the input to the transfer learning model, the function will resize the pre-processed images to the desired pixel height and width, build the transfer model, and build a fully connected head. The structure of the fully connected head was optimized in a previous project, <i>Handwritten digit classification with 99.6% accuracy,</i> . \n"
   ]
  },
  {
   "cell_type": "code",
   "execution_count": 8,
   "metadata": {},
   "outputs": [],
   "source": [
    "#function for creating transfer learning model\n",
    "\n",
    "def build(t_model, input_size):\n",
    "    #creates transfer model\n",
    "    transfer_model = t_model(include_top=False, input_shape=(input_size,input_size,3),weights='imagenet')\n",
    "    transfer_model.trainable = False #freezes model \n",
    "    #note: setting trainable to false also sets training to false for BN layers in tf version 2.0 and above\n",
    "\n",
    "    #creates model with fully connected layers\n",
    "    print('Building model...')\n",
    "    inputs = tf.keras.Input(shape=(28,28,3), name='Input')\n",
    "    x = tf.keras.layers.Resizing(input_size, input_size)(inputs)\n",
    "    x = transfer_model(x)\n",
    "    x = tf.keras.layers.Flatten()(x)\n",
    "    x = tf.keras.layers.Dense(units=128, activation='relu', kernel_initializer='he_normal')(x)\n",
    "    x = tf.keras.layers.Dropout(0.2)(x)\n",
    "    x = tf.keras.layers.Dense(units=64, activation='relu', kernel_initializer='he_normal')(x)\n",
    "    x = tf.keras.layers.Dropout(0.2)(x)\n",
    "    outputs = tf.keras.layers.Dense(units=10,activation='linear',kernel_initializer='he_normal')(x)\n",
    "    model = tf.keras.Model(inputs, outputs)\n",
    "\n",
    "    print(model.summary())\n",
    "\n",
    "    \n",
    "    #compile model \n",
    "    model.compile(loss=tf.keras.losses.SparseCategoricalCrossentropy(from_logits=True),\n",
    "            optimizer = tf.keras.optimizers.Adam(0.0001),\n",
    "            metrics = ['accuracy'])\n",
    "    \n",
    "\n",
    "    return(model)"
   ]
  },
  {
   "attachments": {},
   "cell_type": "markdown",
   "metadata": {},
   "source": [
    "A function that trains the fully connected head was developed. The layers of the transfer learning model are frozen, and the head is trained with a conservative but effective learning rate of 0.0001. Early stopping with weight saving callbacks are implemented to optimize fit time and save only the weights of the best fitting model."
   ]
  },
  {
   "cell_type": "code",
   "execution_count": 9,
   "metadata": {},
   "outputs": [],
   "source": [
    "def train_FC(model, train_data, iters):\n",
    "    #creating callback to save best weights \n",
    "    weight_name = 'weights_'+str(model.layers[2].name)+'_fc.h5'\n",
    "    save_weights = ModelCheckpoint(weight_name, save_best_only=True, save_weights_only=True)\n",
    "    early_stopping = EarlyStopping(monitor='val_accuracy',patience=10, restore_best_weights=True)\n",
    "\n",
    "    #training top layers\n",
    "    print('Training top layers...')\n",
    "    history = model.fit(train_data[0], train_data[1], validation_data=(train_data[2:]), epochs = iters[0],callbacks=[save_weights, early_stopping],verbose=0)\n",
    "\n",
    "    #saving weights\n",
    "    #model.save_weights(weight_name)\n",
    "    \n",
    "    return(model, history)"
   ]
  },
  {
   "attachments": {},
   "cell_type": "markdown",
   "metadata": {},
   "source": [
    "A function to fine tune the full model is developed. All model layers are unfrozen except for batch normalization layers in the transfer model. Batch normalization layers contain two learned and two saved parameters and perform differently in training and instance modes. The saved parameters are the running batch mean and standard deviation, which vary with the data set used. In training mode, the saved parameters are updated, whereas in instance mode they are used without update. It is necessary to keep these layers in instance mode in order to preserve the functionality of the transfer model, as otherwise the pre-trained weights would rapidly diverge and model performance would be quickly destroyed. While the learned parameters of the batch normalization layers can also be fine-tuned, [similar performance](https://arxiv.org/ftp/arxiv/papers/2211/2211.09705.pdf) has been achieved by keeping these parameters frozen. \n",
    "\n",
    "The learning rate used (1e-6) is conservative and selected to prevent the transfer weights from diverging too rapidly. Early stopping and weight saving callbacks are used to minimize runtime without sacrificing performance and save only the best performing model's weights.\n"
   ]
  },
  {
   "cell_type": "code",
   "execution_count": 10,
   "metadata": {},
   "outputs": [],
   "source": [
    "def fine_tune(model, train_data, iters):\n",
    "    print('Fine tuning all layers...')\n",
    "    \n",
    "    #unfreezing transfer model\n",
    "    model.layers[2].trainable = True \n",
    "    #print(str(model.layers[2].name),str(model.layers[2].trainable))\n",
    "\n",
    "    #Checking that BN layers are in inference mode and all layers are trainable\n",
    "    for layer in model.layers[2].layers: \n",
    "        if (isinstance(layer, tf.keras.layers.BatchNormalization)):\n",
    "            layer.trainable = False\n",
    "        else: assert layer.trainable == True\n",
    "\n",
    "    #compiling model\n",
    "    model.compile(loss=tf.keras.losses.SparseCategoricalCrossentropy(from_logits=True),\n",
    "        optimizer = tf.keras.optimizers.Adam(1e-6),\n",
    "        metrics = ['accuracy'])\n",
    "\n",
    "    #creatubg callbacks \n",
    "    weight_name = 'weights_'+str(model.layers[2].name)+'_ft.h5'\n",
    "    save_weights = ModelCheckpoint(weight_name, save_best_only=True, save_weights_only=True)\n",
    "    early_stopping = EarlyStopping(monitor='val_accuracy',patience=10, restore_best_weights=True)\n",
    "\n",
    "    #training model\n",
    "    history = model.fit(train_data[0], train_data[1], validation_data = (train_data[2:]), epochs = iters[1],callbacks=[save_weights,early_stopping],verbose=0)\n",
    "\n",
    "    trained_models.append(model)\n",
    "    #saving weights\n",
    "    #model.save_weights(weight_name)\n",
    "\n",
    "    return(model, history)"
   ]
  },
  {
   "attachments": {},
   "cell_type": "markdown",
   "metadata": {},
   "source": [
    "A function to build and train models is developed utilizing the build and train functions above. This function checks that the proper layers are frozen and unfrozen before fine-tuning and also saves the model's performance."
   ]
  },
  {
   "cell_type": "code",
   "execution_count": 11,
   "metadata": {},
   "outputs": [],
   "source": [
    "def build_and_train(t_model, input_size, train_data, iters):\n",
    "    model = build(t_model, input_size)\n",
    "\n",
    "    model, history = train_FC(model, train_data, iters)\n",
    "    acc = history.history['accuracy']\n",
    "    val_acc = history.history['val_accuracy']\n",
    "    loss = history.history['loss']\n",
    "    val_loss = history.history['val_loss']\n",
    "    fc_epochs = len(acc)\n",
    "\n",
    "    model, history = fine_tune(model, train_data, iters)\n",
    "    acc += history.history['accuracy']\n",
    "    val_acc += history.history['val_accuracy']\n",
    "    loss += history.history['loss']\n",
    "    val_loss += history.history['val_loss']\n",
    "\n",
    "    scores = (acc, val_acc, loss, val_loss, fc_epochs)\n",
    "    #pickles scores\n",
    "    pickle_name = t_model.__name__+'_scores.pkl'\n",
    "    pickle.dump(scores, open(pickle_name, 'wb'))\n",
    "\n",
    "    return(model,scores)\n",
    "    "
   ]
  },
  {
   "attachments": {},
   "cell_type": "markdown",
   "metadata": {},
   "source": [
    "A function is developed to evaluate each model's performance. This function returns the accuracy of the model on a test data set."
   ]
  },
  {
   "cell_type": "code",
   "execution_count": 12,
   "metadata": {},
   "outputs": [],
   "source": [
    "def predict(model, test_data):\n",
    "    y_pred = model.predict(test_data[0]).argmax(axis=1)\n",
    "    return accuracy_score(test_data[1],y_pred)"
   ]
  },
  {
   "attachments": {},
   "cell_type": "markdown",
   "metadata": {},
   "source": [
    "## Models"
   ]
  },
  {
   "cell_type": "code",
   "execution_count": 13,
   "metadata": {},
   "outputs": [],
   "source": [
    "#fully connected training iterations\n",
    "fc_iter = 1000\n",
    "\n",
    "#fine tuning traiing iterations\n",
    "ft_iter = 100\n",
    "\n",
    "iters = (fc_iter, ft_iter)"
   ]
  },
  {
   "cell_type": "code",
   "execution_count": 14,
   "metadata": {},
   "outputs": [],
   "source": [
    "scores = []\n",
    "trained_models = []\n",
    "model_names = ['Resnet50','InceptionV3','Mobilenet']"
   ]
  },
  {
   "attachments": {},
   "cell_type": "markdown",
   "metadata": {},
   "source": [
    "### Resnet50\n",
    "\n",
    "Resnet 50 is a convolutional neural network that is fifty layers deep and uses skip connections to avoid vanishing or exploding gradients, a common problem in deep neural networks. The output of a previous layer is fed into the output of the next layer using a short cut connection. This keeps the output of the second layer from diverging too rapidly or disappearing as adding the value from the previous output constrains the new output and results in incremental layer performance improvements. The structure of a skip connection is shown below: \n",
    "\n",
    "<img src=https://jananisbabu.github.io/ResNet50_From_Scratch_Tensorflow/images/residualblock.png > <br>\n",
    "[Jananisbadu, Github](https://jananisbabu.github.io/ResNet50_From_Scratch_Tensorflow/)\n",
    "\n",
    "The structure of Resnet50 is built using four stages. The first stage is repeated three times, the second stage is repeated four times, the third stage is repeated six times, and the fourth stage is repeated three times. The architecture of Resnet50 is shown below, with the stages shown in yellow, purple, blue and green below:\n",
    "\n",
    "<img src=https://www.researchgate.net/publication/336805103/figure/fig4/AS:817882309079050@1572009746601/ResNet-50-neural-network-architecture-56.ppm><br>\n",
    "[Privacy-Constrained Biometric System for Non-Cooperative Users](https://www.researchgate.net/publication/336805103_Privacy-Constrained_Biometric_System_for_Non-Cooperative_Users)"
   ]
  },
  {
   "cell_type": "code",
   "execution_count": 15,
   "metadata": {},
   "outputs": [
    {
     "name": "stdout",
     "output_type": "stream",
     "text": [
      "Building model...\n",
      "Model: \"model\"\n",
      "_________________________________________________________________\n",
      " Layer (type)                Output Shape              Param #   \n",
      "=================================================================\n",
      " Input (InputLayer)          [(None, 28, 28, 3)]       0         \n",
      "                                                                 \n",
      " resizing (Resizing)         (None, 32, 32, 3)         0         \n",
      "                                                                 \n",
      " resnet50 (Functional)       (None, 1, 1, 2048)        23587712  \n",
      "                                                                 \n",
      " flatten (Flatten)           (None, 2048)              0         \n",
      "                                                                 \n",
      " dense (Dense)               (None, 128)               262272    \n",
      "                                                                 \n",
      " dropout (Dropout)           (None, 128)               0         \n",
      "                                                                 \n",
      " dense_1 (Dense)             (None, 64)                8256      \n",
      "                                                                 \n",
      " dropout_1 (Dropout)         (None, 64)                0         \n",
      "                                                                 \n",
      " dense_2 (Dense)             (None, 10)                650       \n",
      "                                                                 \n",
      "=================================================================\n",
      "Total params: 23,858,890\n",
      "Trainable params: 271,178\n",
      "Non-trainable params: 23,587,712\n",
      "_________________________________________________________________\n",
      "None\n",
      "Training top layers...\n",
      "Fine tuning all layers...\n"
     ]
    }
   ],
   "source": [
    "resnet_model, resnet_score = build_and_train(ResNet50,32,train_data,iters)\n",
    "scores.append(resnet_score)"
   ]
  },
  {
   "attachments": {},
   "cell_type": "markdown",
   "metadata": {},
   "source": [
    "### Inception \n",
    "\n",
    "The inception network uses filters of multiple sizes on the same level. The results of these convolutions as well as a max pooling step are concatenated in the inception module: \n",
    "\n",
    "<img src=https://miro.medium.com/v2/resize:fit:720/format:webp/1*DKjGRDd_lJeUfVlY50ojOA.png><br>\n",
    "[A Simple Guide to the Versions of the Inception Network](https://miro.medium.com/v2/resize:fit:720/format:webp/1*DKjGRDd_lJeUfVlY50ojOA.png)\n",
    "\n",
    "The computational cost of this module is reduced by implementing a 1x1 convolution before the 3x3 and 5x5 convolutions. Further in Inception V2, the 3x3 and 5x5 convolutions are broken down into computationally cheaper 1xn and nx1 convolutions to the same effect. This greatly improves the speed of the model. \n",
    "\n",
    "The inception model is a deep network and is subject to the problem of vanishing gradients. To combat this, two auxiliary classifiers are added to the middle of the network, and the final loss is computed as the weighted output of all three outputs. In Inception V3, further improvements to the model are made, including factorized 7x7 convolutions, the use of an auxiliary classifier lower in the network, and the addition of more batch normalization layers. The structure of InceptionV3 is shown below: \n",
    "\n",
    "<img src=https://cloud.google.com/static/tpu/docs/images/inceptionv3onc--oview.png><br>\n",
    "[Advanced Guide to Inception v3](https://cloud.google.com/tpu/docs/inception-v3-advanced)\n",
    "\n",
    "\n",
    "\n"
   ]
  },
  {
   "cell_type": "code",
   "execution_count": 16,
   "metadata": {},
   "outputs": [
    {
     "name": "stdout",
     "output_type": "stream",
     "text": [
      "Building model...\n",
      "Model: \"model_1\"\n",
      "_________________________________________________________________\n",
      " Layer (type)                Output Shape              Param #   \n",
      "=================================================================\n",
      " Input (InputLayer)          [(None, 28, 28, 3)]       0         \n",
      "                                                                 \n",
      " resizing_1 (Resizing)       (None, 75, 75, 3)         0         \n",
      "                                                                 \n",
      " inception_v3 (Functional)   (None, 1, 1, 2048)        21802784  \n",
      "                                                                 \n",
      " flatten_1 (Flatten)         (None, 2048)              0         \n",
      "                                                                 \n",
      " dense_3 (Dense)             (None, 128)               262272    \n",
      "                                                                 \n",
      " dropout_2 (Dropout)         (None, 128)               0         \n",
      "                                                                 \n",
      " dense_4 (Dense)             (None, 64)                8256      \n",
      "                                                                 \n",
      " dropout_3 (Dropout)         (None, 64)                0         \n",
      "                                                                 \n",
      " dense_5 (Dense)             (None, 10)                650       \n",
      "                                                                 \n",
      "=================================================================\n",
      "Total params: 22,073,962\n",
      "Trainable params: 271,178\n",
      "Non-trainable params: 21,802,784\n",
      "_________________________________________________________________\n",
      "None\n",
      "Training top layers...\n",
      "Fine tuning all layers...\n"
     ]
    }
   ],
   "source": [
    "inception_model, inception_score = build_and_train(InceptionV3,75,train_data,iters)\n",
    "scores.append(inception_score)"
   ]
  },
  {
   "attachments": {},
   "cell_type": "markdown",
   "metadata": {},
   "source": [
    "### Mobilenet\n",
    "\n",
    "Mobilenet uses depthwise convolution to significantly reduce the number of parameters, making it a lightweight alternative to other networks. Depthwise separable convolutions reduce the number of parameters and computation cost involved in convolution operations. Each input channel is convolved with a different kernel and the output is restacked: \n",
    "\n",
    "<img src=https://miro.medium.com/v2/resize:fit:720/format:webp/1*yG6z6ESzsRW-9q5F_neOsg.png><br>\n",
    "[A Basic Introduction to Seperable Convolutions](https://towardsdatascience.com/a-basic-introduction-to-separable-convolutions-b99ec3102728)\n",
    "\n",
    "The structure of mobile net is shown below: \n",
    "\n",
    "<img src=https://static.hindawi.com/articles/misy/volume-2020/7602384/figures/7602384.fig.001.jpg><br>\n",
    "[A novel image classification approach via dense-mobilenet models](https://www.hindawi.com/journals/misy/2020/7602384/)"
   ]
  },
  {
   "cell_type": "code",
   "execution_count": 17,
   "metadata": {},
   "outputs": [
    {
     "name": "stdout",
     "output_type": "stream",
     "text": [
      "WARNING:tensorflow:`input_shape` is undefined or non-square, or `rows` is not in [128, 160, 192, 224]. Weights for input shape (224, 224) will be loaded as the default.\n",
      "Building model...\n",
      "Model: \"model_2\"\n",
      "_________________________________________________________________\n",
      " Layer (type)                Output Shape              Param #   \n",
      "=================================================================\n",
      " Input (InputLayer)          [(None, 28, 28, 3)]       0         \n",
      "                                                                 \n",
      " resizing_2 (Resizing)       (None, 32, 32, 3)         0         \n",
      "                                                                 \n",
      " mobilenet_1.00_224 (Functio  (None, 1, 1, 1024)       3228864   \n",
      " nal)                                                            \n",
      "                                                                 \n",
      " flatten_2 (Flatten)         (None, 1024)              0         \n",
      "                                                                 \n",
      " dense_6 (Dense)             (None, 128)               131200    \n",
      "                                                                 \n",
      " dropout_4 (Dropout)         (None, 128)               0         \n",
      "                                                                 \n",
      " dense_7 (Dense)             (None, 64)                8256      \n",
      "                                                                 \n",
      " dropout_5 (Dropout)         (None, 64)                0         \n",
      "                                                                 \n",
      " dense_8 (Dense)             (None, 10)                650       \n",
      "                                                                 \n",
      "=================================================================\n",
      "Total params: 3,368,970\n",
      "Trainable params: 140,106\n",
      "Non-trainable params: 3,228,864\n",
      "_________________________________________________________________\n",
      "None\n",
      "Training top layers...\n",
      "Fine tuning all layers...\n"
     ]
    }
   ],
   "source": [
    "mobilenet_model, mobilenet_score = build_and_train(MobileNet,32,train_data,iters)\n",
    "scores.append(mobilenet_score)"
   ]
  },
  {
   "attachments": {},
   "cell_type": "markdown",
   "metadata": {},
   "source": [
    "### Visualizing training\n",
    "\n",
    "The accuracy and loss of the validation and training sets is visualized in the graph below. The black line indicates the end of training the fully connected head and start of model fine tuning."
   ]
  },
  {
   "cell_type": "code",
   "execution_count": 18,
   "metadata": {},
   "outputs": [],
   "source": [
    "def model_scores(score):\n",
    "    acc = score[0]\n",
    "    val_acc = score[1]\n",
    "    loss = score[2]\n",
    "    val_loss = score[3]\n",
    "    training_epochs = score[4]\n",
    "    return acc, val_acc, loss, val_loss, training_epochs"
   ]
  },
  {
   "cell_type": "code",
   "execution_count": 43,
   "metadata": {},
   "outputs": [
    {
     "name": "stderr",
     "output_type": "stream",
     "text": [
      "No artists with labels found to put in legend.  Note that artists whose label start with an underscore are ignored when legend() is called with no argument.\n",
      "No artists with labels found to put in legend.  Note that artists whose label start with an underscore are ignored when legend() is called with no argument.\n",
      "No artists with labels found to put in legend.  Note that artists whose label start with an underscore are ignored when legend() is called with no argument.\n",
      "No artists with labels found to put in legend.  Note that artists whose label start with an underscore are ignored when legend() is called with no argument.\n",
      "No artists with labels found to put in legend.  Note that artists whose label start with an underscore are ignored when legend() is called with no argument.\n",
      "No artists with labels found to put in legend.  Note that artists whose label start with an underscore are ignored when legend() is called with no argument.\n",
      "No artists with labels found to put in legend.  Note that artists whose label start with an underscore are ignored when legend() is called with no argument.\n"
     ]
    },
    {
     "data": {
      "image/png": "[encoded data removed]",
      "text/plain": [
       "<Figure size 800x600 with 6 Axes>"
      ]
     },
     "metadata": {},
     "output_type": "display_data"
    }
   ],
   "source": [
    "count = 1\n",
    "plt.style.use('ggplot')\n",
    "plt.figure(figsize=(8, 6))\n",
    "for score in scores:\n",
    "    acc, val_acc, loss, val_loss, training_epochs = model_scores(score)\n",
    "    x_range = range(1,len(acc)+1)\n",
    "\n",
    "    #selecting legend entry \n",
    "    if count == 1:\n",
    "        label_train = 'Training'\n",
    "        label_val= 'Validation'\n",
    "    else: \n",
    "        label_train = None\n",
    "        label_val = None\n",
    "\n",
    "    plt.subplot(2, 3, count)\n",
    "    plt.plot(x_range, acc, label=label_train)\n",
    "    plt.plot(x_range, val_acc, label=label_val)\n",
    "    #plt.ylim([0.8, 1])\n",
    "    plt.plot([training_epochs, training_epochs],plt.ylim(), c = 'black',linewidth=.5,label=None)\n",
    "    plt.legend(frameon=False)\n",
    "    plt.legend(loc=1)\n",
    "    if count == 1:\n",
    "        plt.ylabel('Accuracy')\n",
    "        plt.legend(frameon=True)\n",
    "\n",
    "    plt.title(model_names[count-1])\n",
    "\n",
    "    plt.subplot(2, 3, count+3)\n",
    "    plt.plot(x_range, loss, label=None)\n",
    "    plt.plot(x_range, val_loss, label=None)\n",
    "    #plt.ylim([0, 1.0])\n",
    "    plt.plot([training_epochs, training_epochs],plt.ylim(), c='k', linewidth=0.5,label=None)\n",
    "    plt.legend(loc=2,frameon=False)\n",
    "    plt.xlabel('epoch')\n",
    "    if count == 1:\n",
    "        plt.ylabel('Loss')\n",
    "    \n",
    "    count +=1\n",
    "\n",
    "plt.tight_layout()"
   ]
  },
  {
   "attachments": {},
   "cell_type": "markdown",
   "metadata": {},
   "source": [
    "## Model performance\n",
    "\n",
    "The accuracy of each model using the test dataset was determined. All models performed well with InceptionV3 slightly outperforming Resnet50 and Mobilenet. The total time required to build and train models is plotted."
   ]
  },
  {
   "cell_type": "code",
   "execution_count": 21,
   "metadata": {},
   "outputs": [
    {
     "name": "stdout",
     "output_type": "stream",
     "text": [
      "157/157 [==============================] - 15s 86ms/step\n",
      "157/157 [==============================] - 18s 114ms/step\n",
      "157/157 [==============================] - 5s 27ms/step\n",
      "[0.9912, 0.9932, 0.9912]\n"
     ]
    }
   ],
   "source": [
    "test_accuracy = [predict(model, test_data) for model in trained_models]\n",
    "times = [1571,941,592]  #runtimes in minutes\n",
    "print(test_accuracy)"
   ]
  },
  {
   "cell_type": "code",
   "execution_count": 35,
   "metadata": {},
   "outputs": [
    {
     "data": {
      "text/html": [
       "<div>\n",
       "<style scoped>\n",
       "    .dataframe tbody tr th:only-of-type {\n",
       "        vertical-align: middle;\n",
       "    }\n",
       "\n",
       "    .dataframe tbody tr th {\n",
       "        vertical-align: top;\n",
       "    }\n",
       "\n",
       "    .dataframe thead th {\n",
       "        text-align: right;\n",
       "    }\n",
       "</style>\n",
       "<table border=\"1\" class=\"dataframe\">\n",
       "  <thead>\n",
       "    <tr style=\"text-align: right;\">\n",
       "      <th></th>\n",
       "      <th>Accuracy</th>\n",
       "    </tr>\n",
       "  </thead>\n",
       "  <tbody>\n",
       "    <tr>\n",
       "      <th>Resnet50</th>\n",
       "      <td>0.9912</td>\n",
       "    </tr>\n",
       "    <tr>\n",
       "      <th>InceptionV3</th>\n",
       "      <td>0.9932</td>\n",
       "    </tr>\n",
       "    <tr>\n",
       "      <th>Mobilenet</th>\n",
       "      <td>0.9912</td>\n",
       "    </tr>\n",
       "  </tbody>\n",
       "</table>\n",
       "</div>"
      ],
      "text/plain": [
       "             Accuracy\n",
       "Resnet50       0.9912\n",
       "InceptionV3    0.9932\n",
       "Mobilenet      0.9912"
      ]
     },
     "execution_count": 35,
     "metadata": {},
     "output_type": "execute_result"
    }
   ],
   "source": [
    "pd.DataFrame(test_accuracy,index=model_names, columns=['Accuracy'])"
   ]
  },
  {
   "cell_type": "code",
   "execution_count": 60,
   "metadata": {},
   "outputs": [
    {
     "data": {
      "text/plain": [
       "<matplotlib.legend.Legend at 0x214f7057250>"
      ]
     },
     "execution_count": 60,
     "metadata": {},
     "output_type": "execute_result"
    },
    {
     "data": {
      "image/png": "[encoded data removed]",
      "text/plain": [
       "<Figure size 640x480 with 1 Axes>"
      ]
     },
     "metadata": {},
     "output_type": "display_data"
    }
   ],
   "source": [
    "pd.DataFrame(times, index=model_names, columns=['Models']).plot(kind='bar')\n",
    "plt.title('Total build and train time')\n",
    "plt.ylabel('Minutes')\n",
    "plt.legend(frameon=False)"
   ]
  },
  {
   "attachments": {},
   "cell_type": "markdown",
   "metadata": {},
   "source": [
    "### Conclusions\n",
    "\n",
    "All of the transfer models performed reasonably well with the test set accuracy ranging from 99.12-99.32%. After finetuning, InceptionV3 performed better than Mobilenet and Resnet50. Without finetuning the transfer model, InceptionV3 and Resnet50 significantly outperform Mobilenet. However, the accuracy of Mobilenet quickly and drastically improves with only slight finetuning. If time is an important consideration, Mobilenet should be used as even though more training epochs are required to fully optimize performance, training time is significantly reduced with only a slight decrease in accuracy.\n",
    "\n",
    "These models do not out perform a simple small convolutional neural network with careful data augmentation, which reached 99.6% accuracy and trained in ~2 minutes in a previous project, <i>Handwritten digit classification with 99.6% accuracy,</i>. This highlights the importance of data augmentation in improving model accuracy but is also likely the case due to the simplicity of our images. In applications with more complex images, the additional ability of these deeper networks to identify patterns is likely to result in improved performance."
   ]
  }
 ],
 "metadata": {
  "kernelspec": {
   "display_name": "python310",
   "language": "python",
   "name": "python3"
  },
  "language_info": {
   "codemirror_mode": {
    "name": "ipython",
    "version": 3
   },
   "file_extension": ".py",
   "mimetype": "text/x-python",
   "name": "python",
   "nbconvert_exporter": "python",
   "pygments_lexer": "ipython3",
   "version": "3.10.0"
  },
  "orig_nbformat": 4
 },
 "nbformat": 4,
 "nbformat_minor": 2
}
