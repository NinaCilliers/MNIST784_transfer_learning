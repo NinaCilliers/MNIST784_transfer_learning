{
 "cells": [
  {
   "attachments": {},
   "cell_type": "markdown",
   "metadata": {},
   "source": [
    "# Handwritten digit classification via transfer learning\n",
    "\n",
    "... to decode the MNIST 784 dataset. This dataset contains a subset of 70,000 size-normalized and centered hand written digits. Previously a convolutional neural network was built with 99.6% accuracy.\n",
    "\n",
    "..."
   ]
  },
  {
   "cell_type": "code",
   "execution_count": 34,
   "metadata": {},
   "outputs": [],
   "source": [
    "from sklearn.datasets import fetch_openml\n",
    "from sklearn.metrics import accuracy_score\n",
    "import matplotlib.pyplot as plt\n",
    "import numpy as np\n",
    "import tensorflow as tf\n",
    "from tensorflow.keras.applications import ResNet50, MobileNet\n",
    "from tensorflow.keras.applications.inception_v3 import InceptionV3\n",
    "from keras.callbacks import EarlyStopping, ModelCheckpoint\n",
    "from keras.callbacks import ModelCheckpoint\n",
    "import os\n",
    "import pickle"
   ]
  },
  {
   "cell_type": "code",
   "execution_count": 35,
   "metadata": {},
   "outputs": [
    {
     "data": {
      "text/plain": [
       "'C:\\\\Users\\\\corne\\\\OneDrive\\\\Documents\\\\DS_Portfolio\\\\MNIST784_transfer_learning'"
      ]
     },
     "execution_count": 35,
     "metadata": {},
     "output_type": "execute_result"
    }
   ],
   "source": [
    "os.chdir('C:\\\\Users\\\\corne\\\\OneDrive\\\\Documents\\\\DS_Portfolio\\\\MNIST784_transfer_learning')\n",
    "os.getcwd()"
   ]
  },
  {
   "attachments": {},
   "cell_type": "markdown",
   "metadata": {},
   "source": [
    "### Preprocessing data"
   ]
  },
  {
   "cell_type": "code",
   "execution_count": 36,
   "metadata": {},
   "outputs": [],
   "source": [
    "#Loading MNIST_784 dataset from OpenML\n",
    "mnist = fetch_openml('mnist_784', as_frame = False, parser='auto') \n",
    "X,y = mnist.data.reshape(-1,28,28,1), mnist.target.reshape(-1,1)\n",
    "y = y.astype(np.int64)"
   ]
  },
  {
   "cell_type": "code",
   "execution_count": 37,
   "metadata": {},
   "outputs": [
    {
     "name": "stdout",
     "output_type": "stream",
     "text": [
      "X range before rescaling:\n",
      "0 255\n",
      "X range after rescaling\n",
      "-1.0 1.0\n",
      "X mean: -0.74\n",
      " X std: 0.62\n"
     ]
    }
   ],
   "source": [
    "#rescaling X\n",
    "print('X range before rescaling:')\n",
    "print(round(X[0].min(),2), round(X[0].max(),2))\n",
    "\n",
    "X = X/127.5-1\n",
    "print('X range after rescaling')\n",
    "print(round(X[0].min(),2), round(X[0].max(),2))\n",
    "print(f'X mean: {round(X.mean(),2)}')\n",
    "print(f' X std: {round(X.std(),2)}')\n"
   ]
  },
  {
   "cell_type": "code",
   "execution_count": 38,
   "metadata": {},
   "outputs": [],
   "source": [
    "#Defining function to look at a digit\n",
    "def show_num(input_pic):\n",
    "  plt.imshow(input_pic,cmap='binary')\n",
    "  plt.axis(False)"
   ]
  },
  {
   "cell_type": "code",
   "execution_count": 39,
   "metadata": {},
   "outputs": [
    {
     "name": "stdout",
     "output_type": "stream",
     "text": [
      "Image shape before:\n",
      "(70000, 28, 28, 1)\n",
      "Image shape after:\n",
      "(70000, 28, 28, 3)\n",
      "\n",
      "Checking Image:\n"
     ]
    },
    {
     "data": {
      "image/png": "[encoded data removed]",
      "text/plain": [
       "<Figure size 640x480 with 3 Axes>"
      ]
     },
     "metadata": {},
     "output_type": "display_data"
    }
   ],
   "source": [
    "#repeating gray scale image in 3 channel format for compatability with three channel format \n",
    "#of the pre-trained network\n",
    "\n",
    "print('Image shape before:')\n",
    "print(X.shape)  \n",
    "X_rgb = np.repeat(X,3,axis=-1)\n",
    "print('Image shape after:')\n",
    "print(X_rgb.shape)\n",
    "\n",
    "print('\\nChecking Image:')\n",
    "#checking repeat image \n",
    "for n in range(3):\n",
    "    ax = plt.subplot(1,3,n+1)\n",
    "    show_num(X_rgb[0][:,:,n])"
   ]
  },
  {
   "cell_type": "code",
   "execution_count": 40,
   "metadata": {},
   "outputs": [],
   "source": [
    "#Making test and train sets\n",
    "X_train, y_train, X_valid, y_valid, X_test, y_test = X_rgb[:60000], y[:60000],X_rgb[60000:65000],y[60000:65000],X_rgb[65000:],y[65000:]\n",
    "\n",
    "train_data = (X_train, y_train, X_valid, y_valid)\n",
    "test_data = (X_test, y_test)"
   ]
  },
  {
   "attachments": {},
   "cell_type": "markdown",
   "metadata": {},
   "source": [
    "### Building and training transfer learning models"
   ]
  },
  {
   "cell_type": "code",
   "execution_count": 41,
   "metadata": {},
   "outputs": [],
   "source": [
    "#function for creating transfer learning model\n",
    "\n",
    "def build(t_model, input_size):\n",
    "    #creates transfer model\n",
    "    transfer_model = t_model(include_top=False, input_shape=(input_size,input_size,3),weights='imagenet')\n",
    "    transfer_model.trainable = False #freezes model \n",
    "    #note: setting trainable to false also sets training to false for BN layers in tf version 2.0 and above\n",
    "\n",
    "    #creates model with fully connected layers\n",
    "    print('Building model...')\n",
    "    inputs = tf.keras.Input(shape=(28,28,3), name='Input')\n",
    "    x = tf.keras.layers.Resizing(input_size, input_size)(inputs)\n",
    "    x = transfer_model(x)\n",
    "    x = tf.keras.layers.Flatten()(x)\n",
    "    x = tf.keras.layers.Dense(units=128, activation='relu', kernel_initializer='he_normal')(x)\n",
    "    x = tf.keras.layers.Dropout(0.2)(x)\n",
    "    x = tf.keras.layers.Dense(units=64, activation='relu', kernel_initializer='he_normal')(x)\n",
    "    x = tf.keras.layers.Dropout(0.2)(x)\n",
    "    outputs = tf.keras.layers.Dense(units=10,activation='linear',kernel_initializer='he_normal')(x)\n",
    "    model = tf.keras.Model(inputs, outputs)\n",
    "\n",
    "    print(model.summary())\n",
    "\n",
    "    \n",
    "    #compile model \n",
    "    model.compile(loss=tf.keras.losses.SparseCategoricalCrossentropy(from_logits=True),\n",
    "            optimizer = tf.keras.optimizers.Adam(0.0001),\n",
    "            metrics = ['accuracy'])\n",
    "    \n",
    "\n",
    "    return(model)"
   ]
  },
  {
   "cell_type": "code",
   "execution_count": 42,
   "metadata": {},
   "outputs": [],
   "source": [
    "def train_FC(model, train_data, iters):\n",
    "    #creating callback to save best weights \n",
    "    weight_name = 'weights_'+str(model.layers[2].name)+'_fc.h5'\n",
    "    save_weights = ModelCheckpoint(weight_name, save_best_only=True, save_weights_only=True)\n",
    "    early_stopping = EarlyStopping(monitor='val_accuracy',patience=10, restore_best_weights=True)\n",
    "\n",
    "    #training top layers\n",
    "    print('Training top layers...')\n",
    "    history = model.fit(train_data[0], train_data[1], validation_data=(train_data[2:]), epochs = iters[0],callbacks=[save_weights, early_stopping])\n",
    "\n",
    "    #saving weights\n",
    "    #model.save_weights(weight_name)\n",
    "    \n",
    "    return(model, history)"
   ]
  },
  {
   "cell_type": "code",
   "execution_count": 43,
   "metadata": {},
   "outputs": [],
   "source": [
    "def fine_tune(model, train_data, iters):\n",
    "    print('Fine tuning all layers...')\n",
    "    \n",
    "    #unfreezing transfer model\n",
    "    model.layers[2].trainable = True \n",
    "    #print(str(model.layers[2].name),str(model.layers[2].trainable))\n",
    "\n",
    "    #Checking that BN layers are in inference mode and all layers are trainable\n",
    "    for layer in model.layers[2].layers: \n",
    "        if (isinstance(layer, tf.keras.layers.BatchNormalization)):\n",
    "            layer.trainable = False\n",
    "        else: assert layer.trainable == True\n",
    "\n",
    "    #compiling model\n",
    "    model.compile(loss=tf.keras.losses.SparseCategoricalCrossentropy(from_logits=True),\n",
    "        optimizer = tf.keras.optimizers.Adam(1e-6),\n",
    "        metrics = ['accuracy'])\n",
    "\n",
    "    #creatubg callbacks \n",
    "    weight_name = 'weights_'+str(model.layers[2].name)+'_ft.h5'\n",
    "    save_weights = ModelCheckpoint(weight_name, save_best_only=True, save_weights_only=True)\n",
    "    early_stopping = EarlyStopping(monitor='val_accuracy',patience=10, restore_best_weights=True)\n",
    "\n",
    "    #training model\n",
    "    history = model.fit(train_data[0], train_data[1], validation_data = (train_data[2:]), epochs = iters[1],callbacks=[save_weights,early_stopping])\n",
    "\n",
    "    trained_models.append(model)\n",
    "    #saving weights\n",
    "    #model.save_weights(weight_name)\n",
    "\n",
    "    return(model, history)"
   ]
  },
  {
   "cell_type": "code",
   "execution_count": 44,
   "metadata": {},
   "outputs": [],
   "source": [
    "def build_and_train(t_model, input_size, train_data, iters):\n",
    "    model = build(t_model, input_size)\n",
    "\n",
    "    model, history = train_FC(model, train_data, iters)\n",
    "    acc = history.history['accuracy']\n",
    "    val_acc = history.history['val_accuracy']\n",
    "    loss = history.history['loss']\n",
    "    val_loss = history.history['val_loss']\n",
    "    fc_epochs = len(acc)\n",
    "\n",
    "    model, history = fine_tune(model, train_data, iters)\n",
    "    acc += history.history['accuracy']\n",
    "    val_acc += history.history['val_accuracy']\n",
    "    loss += history.history['loss']\n",
    "    val_loss += history.history['val_loss']\n",
    "\n",
    "    scores = (acc, val_acc, loss, val_loss, fc_epochs)\n",
    "    #pickles scores\n",
    "    pickle_name = t_model.__name__+'_scores.pkl'\n",
    "    pickle.dump(scores, open(pickle_name, 'wb'))\n",
    "\n",
    "    return(model,scores)\n",
    "    "
   ]
  },
  {
   "cell_type": "code",
   "execution_count": 45,
   "metadata": {},
   "outputs": [],
   "source": [
    "def predict(model, test_data):\n",
    "    y_pred = model.predict(test_data[0]).argmax(axis=1)\n",
    "    return accuracy_score(test_data[1],y_pred)"
   ]
  },
  {
   "attachments": {},
   "cell_type": "markdown",
   "metadata": {},
   "source": [
    "## Models"
   ]
  },
  {
   "cell_type": "code",
   "execution_count": 46,
   "metadata": {},
   "outputs": [],
   "source": [
    "#fully connected training iterations\n",
    "fc_iter = 1000\n",
    "\n",
    "#fine tuning traiing iterations\n",
    "ft_iter = 100\n",
    "\n",
    "iters = (fc_iter, ft_iter)"
   ]
  },
  {
   "cell_type": "code",
   "execution_count": 47,
   "metadata": {},
   "outputs": [],
   "source": [
    "scores = []\n",
    "trained_models = []\n",
    "model_names = ['Resnet50','InceptionV3','Mobilenet']"
   ]
  },
  {
   "cell_type": "code",
   "execution_count": 48,
   "metadata": {},
   "outputs": [
    {
     "name": "stdout",
     "output_type": "stream",
     "text": [
      "Building model...\n",
      "Model: \"model_3\"\n",
      "_________________________________________________________________\n",
      " Layer (type)                Output Shape              Param #   \n",
      "=================================================================\n",
      " Input (InputLayer)          [(None, 28, 28, 3)]       0         \n",
      "                                                                 \n",
      " resizing_3 (Resizing)       (None, 32, 32, 3)         0         \n",
      "                                                                 \n",
      " resnet50 (Functional)       (None, 1, 1, 2048)        23587712  \n",
      "                                                                 \n",
      " flatten_3 (Flatten)         (None, 2048)              0         \n",
      "                                                                 \n",
      " dense_9 (Dense)             (None, 128)               262272    \n",
      "                                                                 \n",
      " dropout_6 (Dropout)         (None, 128)               0         \n",
      "                                                                 \n",
      " dense_10 (Dense)            (None, 64)                8256      \n",
      "                                                                 \n",
      " dropout_7 (Dropout)         (None, 64)                0         \n",
      "                                                                 \n",
      " dense_11 (Dense)            (None, 10)                650       \n",
      "                                                                 \n",
      "=================================================================\n",
      "Total params: 23,858,890\n",
      "Trainable params: 271,178\n",
      "Non-trainable params: 23,587,712\n",
      "_________________________________________________________________\n",
      "None\n",
      "Training top layers...\n",
      "Epoch 1/1000\n",
      "32/32 [==============================] - 9s 153ms/step - loss: 3.2982 - accuracy: 0.1110 - val_loss: 2.3005 - val_accuracy: 0.2100\n",
      "Epoch 2/1000\n",
      "32/32 [==============================] - 4s 112ms/step - loss: 2.4312 - accuracy: 0.1710 - val_loss: 2.0125 - val_accuracy: 0.3300\n",
      "Epoch 3/1000\n",
      "32/32 [==============================] - 3s 104ms/step - loss: 2.1364 - accuracy: 0.2540 - val_loss: 1.8409 - val_accuracy: 0.4500\n",
      "Epoch 4/1000\n",
      "32/32 [==============================] - 3s 107ms/step - loss: 1.9371 - accuracy: 0.3140 - val_loss: 1.7059 - val_accuracy: 0.5200\n",
      "Epoch 5/1000\n",
      "32/32 [==============================] - 3s 105ms/step - loss: 1.7767 - accuracy: 0.4030 - val_loss: 1.5655 - val_accuracy: 0.5800\n",
      "Epoch 6/1000\n",
      "32/32 [==============================] - 3s 104ms/step - loss: 1.6687 - accuracy: 0.4290 - val_loss: 1.4737 - val_accuracy: 0.6800\n",
      "Epoch 7/1000\n",
      "32/32 [==============================] - 3s 104ms/step - loss: 1.5500 - accuracy: 0.4920 - val_loss: 1.3868 - val_accuracy: 0.7000\n",
      "Epoch 8/1000\n",
      "32/32 [==============================] - 3s 105ms/step - loss: 1.4540 - accuracy: 0.5340 - val_loss: 1.3083 - val_accuracy: 0.6900\n",
      "Epoch 9/1000\n",
      "32/32 [==============================] - 3s 108ms/step - loss: 1.4225 - accuracy: 0.5300 - val_loss: 1.1967 - val_accuracy: 0.7200\n",
      "Epoch 10/1000\n",
      "32/32 [==============================] - 3s 101ms/step - loss: 1.3243 - accuracy: 0.5930 - val_loss: 1.1240 - val_accuracy: 0.7200\n",
      "Epoch 11/1000\n",
      "32/32 [==============================] - 3s 104ms/step - loss: 1.2620 - accuracy: 0.5960 - val_loss: 1.0689 - val_accuracy: 0.7800\n",
      "Epoch 12/1000\n",
      "32/32 [==============================] - 3s 105ms/step - loss: 1.2364 - accuracy: 0.6050 - val_loss: 1.0146 - val_accuracy: 0.8000\n",
      "Epoch 13/1000\n",
      "32/32 [==============================] - 3s 100ms/step - loss: 1.1783 - accuracy: 0.6410 - val_loss: 0.9650 - val_accuracy: 0.8100\n",
      "Epoch 14/1000\n",
      "32/32 [==============================] - 3s 98ms/step - loss: 1.1305 - accuracy: 0.6430 - val_loss: 0.9250 - val_accuracy: 0.8000\n",
      "Epoch 15/1000\n",
      "32/32 [==============================] - 3s 96ms/step - loss: 1.0795 - accuracy: 0.6580 - val_loss: 0.8894 - val_accuracy: 0.7900\n",
      "Epoch 16/1000\n",
      "32/32 [==============================] - 3s 97ms/step - loss: 1.0475 - accuracy: 0.6800 - val_loss: 0.8650 - val_accuracy: 0.7900\n",
      "Epoch 17/1000\n",
      "32/32 [==============================] - 3s 103ms/step - loss: 1.0416 - accuracy: 0.6850 - val_loss: 0.8272 - val_accuracy: 0.8200\n",
      "Epoch 18/1000\n",
      "32/32 [==============================] - 3s 100ms/step - loss: 0.9797 - accuracy: 0.6910 - val_loss: 0.7908 - val_accuracy: 0.8100\n",
      "Epoch 19/1000\n",
      "32/32 [==============================] - 3s 102ms/step - loss: 0.9595 - accuracy: 0.7090 - val_loss: 0.7720 - val_accuracy: 0.8300\n",
      "Epoch 20/1000\n",
      "32/32 [==============================] - 3s 98ms/step - loss: 0.9278 - accuracy: 0.7050 - val_loss: 0.7510 - val_accuracy: 0.8300\n",
      "Epoch 21/1000\n",
      "32/32 [==============================] - 3s 101ms/step - loss: 0.8790 - accuracy: 0.7460 - val_loss: 0.7192 - val_accuracy: 0.8200\n",
      "Epoch 22/1000\n",
      "32/32 [==============================] - 3s 98ms/step - loss: 0.8752 - accuracy: 0.7390 - val_loss: 0.6956 - val_accuracy: 0.8100\n",
      "Epoch 23/1000\n",
      "32/32 [==============================] - 3s 98ms/step - loss: 0.8515 - accuracy: 0.7490 - val_loss: 0.6702 - val_accuracy: 0.8200\n",
      "Epoch 24/1000\n",
      "32/32 [==============================] - 3s 99ms/step - loss: 0.8463 - accuracy: 0.7390 - val_loss: 0.6630 - val_accuracy: 0.8300\n",
      "Epoch 25/1000\n",
      "32/32 [==============================] - 3s 103ms/step - loss: 0.7656 - accuracy: 0.7690 - val_loss: 0.6324 - val_accuracy: 0.8400\n",
      "Epoch 26/1000\n",
      "32/32 [==============================] - 4s 115ms/step - loss: 0.7877 - accuracy: 0.7550 - val_loss: 0.6203 - val_accuracy: 0.8400\n",
      "Epoch 27/1000\n",
      "32/32 [==============================] - 3s 104ms/step - loss: 0.7524 - accuracy: 0.7680 - val_loss: 0.6121 - val_accuracy: 0.8300\n",
      "Epoch 28/1000\n",
      "32/32 [==============================] - 3s 107ms/step - loss: 0.7032 - accuracy: 0.7870 - val_loss: 0.5755 - val_accuracy: 0.8600\n",
      "Epoch 29/1000\n",
      "32/32 [==============================] - 3s 106ms/step - loss: 0.7118 - accuracy: 0.7850 - val_loss: 0.5715 - val_accuracy: 0.8400\n",
      "Epoch 30/1000\n",
      "32/32 [==============================] - 3s 104ms/step - loss: 0.7042 - accuracy: 0.7790 - val_loss: 0.5547 - val_accuracy: 0.8700\n",
      "Epoch 31/1000\n",
      "32/32 [==============================] - 3s 94ms/step - loss: 0.6932 - accuracy: 0.7840 - val_loss: 0.5550 - val_accuracy: 0.8400\n",
      "Epoch 32/1000\n",
      "32/32 [==============================] - 3s 103ms/step - loss: 0.6920 - accuracy: 0.8040 - val_loss: 0.5353 - val_accuracy: 0.8400\n",
      "Epoch 33/1000\n",
      "32/32 [==============================] - 3s 102ms/step - loss: 0.6808 - accuracy: 0.7800 - val_loss: 0.5245 - val_accuracy: 0.8700\n",
      "Epoch 34/1000\n",
      "32/32 [==============================] - 3s 108ms/step - loss: 0.6727 - accuracy: 0.8010 - val_loss: 0.5259 - val_accuracy: 0.8300\n",
      "Epoch 35/1000\n",
      "32/32 [==============================] - 4s 117ms/step - loss: 0.6261 - accuracy: 0.8150 - val_loss: 0.5148 - val_accuracy: 0.8400\n",
      "Epoch 36/1000\n",
      "32/32 [==============================] - 3s 105ms/step - loss: 0.6242 - accuracy: 0.8040 - val_loss: 0.4989 - val_accuracy: 0.8400\n",
      "Epoch 37/1000\n",
      "32/32 [==============================] - 3s 105ms/step - loss: 0.5992 - accuracy: 0.8260 - val_loss: 0.4787 - val_accuracy: 0.8800\n",
      "Epoch 38/1000\n",
      "32/32 [==============================] - 3s 106ms/step - loss: 0.5965 - accuracy: 0.8280 - val_loss: 0.4679 - val_accuracy: 0.8700\n",
      "Epoch 39/1000\n",
      "32/32 [==============================] - 3s 106ms/step - loss: 0.5765 - accuracy: 0.8290 - val_loss: 0.4553 - val_accuracy: 0.8800\n",
      "Epoch 40/1000\n",
      "32/32 [==============================] - 3s 92ms/step - loss: 0.5776 - accuracy: 0.8270 - val_loss: 0.4621 - val_accuracy: 0.8700\n",
      "Epoch 41/1000\n",
      "32/32 [==============================] - 3s 92ms/step - loss: 0.5683 - accuracy: 0.8300 - val_loss: 0.4569 - val_accuracy: 0.8700\n",
      "Epoch 42/1000\n",
      "32/32 [==============================] - 3s 94ms/step - loss: 0.5661 - accuracy: 0.8250 - val_loss: 0.4584 - val_accuracy: 0.8700\n",
      "Epoch 43/1000\n",
      "32/32 [==============================] - 3s 109ms/step - loss: 0.5299 - accuracy: 0.8340 - val_loss: 0.4298 - val_accuracy: 0.8800\n",
      "Epoch 44/1000\n",
      "32/32 [==============================] - 3s 101ms/step - loss: 0.5437 - accuracy: 0.8560 - val_loss: 0.4222 - val_accuracy: 0.8700\n",
      "Epoch 45/1000\n",
      "32/32 [==============================] - 3s 105ms/step - loss: 0.5003 - accuracy: 0.8550 - val_loss: 0.4196 - val_accuracy: 0.8600\n",
      "Epoch 46/1000\n",
      "32/32 [==============================] - 3s 103ms/step - loss: 0.5219 - accuracy: 0.8510 - val_loss: 0.4135 - val_accuracy: 0.8800\n",
      "Epoch 47/1000\n",
      "32/32 [==============================] - 4s 111ms/step - loss: 0.4884 - accuracy: 0.8510 - val_loss: 0.4058 - val_accuracy: 0.8800\n",
      "Fine tuning all layers...\n",
      "Epoch 1/100\n",
      "32/32 [==============================] - 63s 2s/step - loss: 0.5691 - accuracy: 0.8140 - val_loss: 0.3950 - val_accuracy: 0.8800\n",
      "Epoch 2/100\n",
      "23/32 [====================>.........] - ETA: 13s - loss: 0.5232 - accuracy: 0.8383"
     ]
    },
    {
     "ename": "KeyboardInterrupt",
     "evalue": "",
     "output_type": "error",
     "traceback": [
      "\u001b[1;31m---------------------------------------------------------------------------\u001b[0m",
      "\u001b[1;31mKeyboardInterrupt\u001b[0m                         Traceback (most recent call last)",
      "Cell \u001b[1;32mIn[48], line 1\u001b[0m\n\u001b[1;32m----> 1\u001b[0m resnet_model, resnet_score \u001b[39m=\u001b[39m build_and_train(ResNet50,\u001b[39m32\u001b[39;49m,train_data,iters)\n\u001b[0;32m      2\u001b[0m scores\u001b[39m.\u001b[39mappend(resnet_score)\n",
      "Cell \u001b[1;32mIn[44], line 11\u001b[0m, in \u001b[0;36mbuild_and_train\u001b[1;34m(t_model, input_size, train_data, iters)\u001b[0m\n\u001b[0;32m      8\u001b[0m val_loss \u001b[39m=\u001b[39m history\u001b[39m.\u001b[39mhistory[\u001b[39m'\u001b[39m\u001b[39mval_loss\u001b[39m\u001b[39m'\u001b[39m]\n\u001b[0;32m      9\u001b[0m fc_epochs \u001b[39m=\u001b[39m \u001b[39mlen\u001b[39m(acc)\n\u001b[1;32m---> 11\u001b[0m model, history \u001b[39m=\u001b[39m fine_tune(model, train_data, iters)\n\u001b[0;32m     12\u001b[0m acc \u001b[39m+\u001b[39m\u001b[39m=\u001b[39m history\u001b[39m.\u001b[39mhistory[\u001b[39m'\u001b[39m\u001b[39maccuracy\u001b[39m\u001b[39m'\u001b[39m]\n\u001b[0;32m     13\u001b[0m val_acc \u001b[39m+\u001b[39m\u001b[39m=\u001b[39m history\u001b[39m.\u001b[39mhistory[\u001b[39m'\u001b[39m\u001b[39mval_accuracy\u001b[39m\u001b[39m'\u001b[39m]\n",
      "Cell \u001b[1;32mIn[43], line 25\u001b[0m, in \u001b[0;36mfine_tune\u001b[1;34m(model, train_data, iters)\u001b[0m\n\u001b[0;32m     22\u001b[0m early_stopping \u001b[39m=\u001b[39m EarlyStopping(monitor\u001b[39m=\u001b[39m\u001b[39m'\u001b[39m\u001b[39mval_accuracy\u001b[39m\u001b[39m'\u001b[39m,patience\u001b[39m=\u001b[39m\u001b[39m10\u001b[39m, restore_best_weights\u001b[39m=\u001b[39m\u001b[39mTrue\u001b[39;00m)\n\u001b[0;32m     24\u001b[0m \u001b[39m#training model\u001b[39;00m\n\u001b[1;32m---> 25\u001b[0m history \u001b[39m=\u001b[39m model\u001b[39m.\u001b[39;49mfit(train_data[\u001b[39m0\u001b[39;49m], train_data[\u001b[39m1\u001b[39;49m], validation_data \u001b[39m=\u001b[39;49m (train_data[\u001b[39m2\u001b[39;49m:]), epochs \u001b[39m=\u001b[39;49m iters[\u001b[39m1\u001b[39;49m],callbacks\u001b[39m=\u001b[39;49m[save_weights,early_stopping])\n\u001b[0;32m     27\u001b[0m trained_models\u001b[39m.\u001b[39mappend(model)\n\u001b[0;32m     28\u001b[0m \u001b[39m#saving weights\u001b[39;00m\n\u001b[0;32m     29\u001b[0m \u001b[39m#model.save_weights(weight_name)\u001b[39;00m\n",
      "File \u001b[1;32mc:\\Users\\corne\\anaconda3\\envs\\python310\\lib\\site-packages\\keras\\utils\\traceback_utils.py:65\u001b[0m, in \u001b[0;36mfilter_traceback.<locals>.error_handler\u001b[1;34m(*args, **kwargs)\u001b[0m\n\u001b[0;32m     63\u001b[0m filtered_tb \u001b[39m=\u001b[39m \u001b[39mNone\u001b[39;00m\n\u001b[0;32m     64\u001b[0m \u001b[39mtry\u001b[39;00m:\n\u001b[1;32m---> 65\u001b[0m     \u001b[39mreturn\u001b[39;00m fn(\u001b[39m*\u001b[39margs, \u001b[39m*\u001b[39m\u001b[39m*\u001b[39mkwargs)\n\u001b[0;32m     66\u001b[0m \u001b[39mexcept\u001b[39;00m \u001b[39mException\u001b[39;00m \u001b[39mas\u001b[39;00m e:\n\u001b[0;32m     67\u001b[0m     filtered_tb \u001b[39m=\u001b[39m _process_traceback_frames(e\u001b[39m.\u001b[39m__traceback__)\n",
      "File \u001b[1;32mc:\\Users\\corne\\anaconda3\\envs\\python310\\lib\\site-packages\\keras\\engine\\training.py:1685\u001b[0m, in \u001b[0;36mModel.fit\u001b[1;34m(self, x, y, batch_size, epochs, verbose, callbacks, validation_split, validation_data, shuffle, class_weight, sample_weight, initial_epoch, steps_per_epoch, validation_steps, validation_batch_size, validation_freq, max_queue_size, workers, use_multiprocessing)\u001b[0m\n\u001b[0;32m   1677\u001b[0m \u001b[39mwith\u001b[39;00m tf\u001b[39m.\u001b[39mprofiler\u001b[39m.\u001b[39mexperimental\u001b[39m.\u001b[39mTrace(\n\u001b[0;32m   1678\u001b[0m     \u001b[39m\"\u001b[39m\u001b[39mtrain\u001b[39m\u001b[39m\"\u001b[39m,\n\u001b[0;32m   1679\u001b[0m     epoch_num\u001b[39m=\u001b[39mepoch,\n\u001b[1;32m   (...)\u001b[0m\n\u001b[0;32m   1682\u001b[0m     _r\u001b[39m=\u001b[39m\u001b[39m1\u001b[39m,\n\u001b[0;32m   1683\u001b[0m ):\n\u001b[0;32m   1684\u001b[0m     callbacks\u001b[39m.\u001b[39mon_train_batch_begin(step)\n\u001b[1;32m-> 1685\u001b[0m     tmp_logs \u001b[39m=\u001b[39m \u001b[39mself\u001b[39;49m\u001b[39m.\u001b[39;49mtrain_function(iterator)\n\u001b[0;32m   1686\u001b[0m     \u001b[39mif\u001b[39;00m data_handler\u001b[39m.\u001b[39mshould_sync:\n\u001b[0;32m   1687\u001b[0m         context\u001b[39m.\u001b[39masync_wait()\n",
      "File \u001b[1;32mc:\\Users\\corne\\anaconda3\\envs\\python310\\lib\\site-packages\\tensorflow\\python\\util\\traceback_utils.py:150\u001b[0m, in \u001b[0;36mfilter_traceback.<locals>.error_handler\u001b[1;34m(*args, **kwargs)\u001b[0m\n\u001b[0;32m    148\u001b[0m filtered_tb \u001b[39m=\u001b[39m \u001b[39mNone\u001b[39;00m\n\u001b[0;32m    149\u001b[0m \u001b[39mtry\u001b[39;00m:\n\u001b[1;32m--> 150\u001b[0m   \u001b[39mreturn\u001b[39;00m fn(\u001b[39m*\u001b[39margs, \u001b[39m*\u001b[39m\u001b[39m*\u001b[39mkwargs)\n\u001b[0;32m    151\u001b[0m \u001b[39mexcept\u001b[39;00m \u001b[39mException\u001b[39;00m \u001b[39mas\u001b[39;00m e:\n\u001b[0;32m    152\u001b[0m   filtered_tb \u001b[39m=\u001b[39m _process_traceback_frames(e\u001b[39m.\u001b[39m__traceback__)\n",
      "File \u001b[1;32mc:\\Users\\corne\\anaconda3\\envs\\python310\\lib\\site-packages\\tensorflow\\python\\eager\\polymorphic_function\\polymorphic_function.py:894\u001b[0m, in \u001b[0;36mFunction.__call__\u001b[1;34m(self, *args, **kwds)\u001b[0m\n\u001b[0;32m    891\u001b[0m compiler \u001b[39m=\u001b[39m \u001b[39m\"\u001b[39m\u001b[39mxla\u001b[39m\u001b[39m\"\u001b[39m \u001b[39mif\u001b[39;00m \u001b[39mself\u001b[39m\u001b[39m.\u001b[39m_jit_compile \u001b[39melse\u001b[39;00m \u001b[39m\"\u001b[39m\u001b[39mnonXla\u001b[39m\u001b[39m\"\u001b[39m\n\u001b[0;32m    893\u001b[0m \u001b[39mwith\u001b[39;00m OptionalXlaContext(\u001b[39mself\u001b[39m\u001b[39m.\u001b[39m_jit_compile):\n\u001b[1;32m--> 894\u001b[0m   result \u001b[39m=\u001b[39m \u001b[39mself\u001b[39m\u001b[39m.\u001b[39m_call(\u001b[39m*\u001b[39margs, \u001b[39m*\u001b[39m\u001b[39m*\u001b[39mkwds)\n\u001b[0;32m    896\u001b[0m new_tracing_count \u001b[39m=\u001b[39m \u001b[39mself\u001b[39m\u001b[39m.\u001b[39mexperimental_get_tracing_count()\n\u001b[0;32m    897\u001b[0m without_tracing \u001b[39m=\u001b[39m (tracing_count \u001b[39m==\u001b[39m new_tracing_count)\n",
      "File \u001b[1;32mc:\\Users\\corne\\anaconda3\\envs\\python310\\lib\\site-packages\\tensorflow\\python\\eager\\polymorphic_function\\polymorphic_function.py:926\u001b[0m, in \u001b[0;36mFunction._call\u001b[1;34m(self, *args, **kwds)\u001b[0m\n\u001b[0;32m    923\u001b[0m   \u001b[39mself\u001b[39m\u001b[39m.\u001b[39m_lock\u001b[39m.\u001b[39mrelease()\n\u001b[0;32m    924\u001b[0m   \u001b[39m# In this case we have created variables on the first call, so we run the\u001b[39;00m\n\u001b[0;32m    925\u001b[0m   \u001b[39m# defunned version which is guaranteed to never create variables.\u001b[39;00m\n\u001b[1;32m--> 926\u001b[0m   \u001b[39mreturn\u001b[39;00m \u001b[39mself\u001b[39m\u001b[39m.\u001b[39m_no_variable_creation_fn(\u001b[39m*\u001b[39margs, \u001b[39m*\u001b[39m\u001b[39m*\u001b[39mkwds)  \u001b[39m# pylint: disable=not-callable\u001b[39;00m\n\u001b[0;32m    927\u001b[0m \u001b[39melif\u001b[39;00m \u001b[39mself\u001b[39m\u001b[39m.\u001b[39m_variable_creation_fn \u001b[39mis\u001b[39;00m \u001b[39mnot\u001b[39;00m \u001b[39mNone\u001b[39;00m:\n\u001b[0;32m    928\u001b[0m   \u001b[39m# Release the lock early so that multiple threads can perform the call\u001b[39;00m\n\u001b[0;32m    929\u001b[0m   \u001b[39m# in parallel.\u001b[39;00m\n\u001b[0;32m    930\u001b[0m   \u001b[39mself\u001b[39m\u001b[39m.\u001b[39m_lock\u001b[39m.\u001b[39mrelease()\n",
      "File \u001b[1;32mc:\\Users\\corne\\anaconda3\\envs\\python310\\lib\\site-packages\\tensorflow\\python\\eager\\polymorphic_function\\tracing_compiler.py:143\u001b[0m, in \u001b[0;36mTracingCompiler.__call__\u001b[1;34m(self, *args, **kwargs)\u001b[0m\n\u001b[0;32m    140\u001b[0m \u001b[39mwith\u001b[39;00m \u001b[39mself\u001b[39m\u001b[39m.\u001b[39m_lock:\n\u001b[0;32m    141\u001b[0m   (concrete_function,\n\u001b[0;32m    142\u001b[0m    filtered_flat_args) \u001b[39m=\u001b[39m \u001b[39mself\u001b[39m\u001b[39m.\u001b[39m_maybe_define_function(args, kwargs)\n\u001b[1;32m--> 143\u001b[0m \u001b[39mreturn\u001b[39;00m concrete_function\u001b[39m.\u001b[39;49m_call_flat(\n\u001b[0;32m    144\u001b[0m     filtered_flat_args, captured_inputs\u001b[39m=\u001b[39;49mconcrete_function\u001b[39m.\u001b[39;49mcaptured_inputs)\n",
      "File \u001b[1;32mc:\\Users\\corne\\anaconda3\\envs\\python310\\lib\\site-packages\\tensorflow\\python\\eager\\polymorphic_function\\monomorphic_function.py:1757\u001b[0m, in \u001b[0;36mConcreteFunction._call_flat\u001b[1;34m(self, args, captured_inputs, cancellation_manager)\u001b[0m\n\u001b[0;32m   1753\u001b[0m possible_gradient_type \u001b[39m=\u001b[39m gradients_util\u001b[39m.\u001b[39mPossibleTapeGradientTypes(args)\n\u001b[0;32m   1754\u001b[0m \u001b[39mif\u001b[39;00m (possible_gradient_type \u001b[39m==\u001b[39m gradients_util\u001b[39m.\u001b[39mPOSSIBLE_GRADIENT_TYPES_NONE\n\u001b[0;32m   1755\u001b[0m     \u001b[39mand\u001b[39;00m executing_eagerly):\n\u001b[0;32m   1756\u001b[0m   \u001b[39m# No tape is watching; skip to running the function.\u001b[39;00m\n\u001b[1;32m-> 1757\u001b[0m   \u001b[39mreturn\u001b[39;00m \u001b[39mself\u001b[39m\u001b[39m.\u001b[39m_build_call_outputs(\u001b[39mself\u001b[39;49m\u001b[39m.\u001b[39;49m_inference_function\u001b[39m.\u001b[39;49mcall(\n\u001b[0;32m   1758\u001b[0m       ctx, args, cancellation_manager\u001b[39m=\u001b[39;49mcancellation_manager))\n\u001b[0;32m   1759\u001b[0m forward_backward \u001b[39m=\u001b[39m \u001b[39mself\u001b[39m\u001b[39m.\u001b[39m_select_forward_and_backward_functions(\n\u001b[0;32m   1760\u001b[0m     args,\n\u001b[0;32m   1761\u001b[0m     possible_gradient_type,\n\u001b[0;32m   1762\u001b[0m     executing_eagerly)\n\u001b[0;32m   1763\u001b[0m forward_function, args_with_tangents \u001b[39m=\u001b[39m forward_backward\u001b[39m.\u001b[39mforward()\n",
      "File \u001b[1;32mc:\\Users\\corne\\anaconda3\\envs\\python310\\lib\\site-packages\\tensorflow\\python\\eager\\polymorphic_function\\monomorphic_function.py:381\u001b[0m, in \u001b[0;36m_EagerDefinedFunction.call\u001b[1;34m(self, ctx, args, cancellation_manager)\u001b[0m\n\u001b[0;32m    379\u001b[0m \u001b[39mwith\u001b[39;00m _InterpolateFunctionError(\u001b[39mself\u001b[39m):\n\u001b[0;32m    380\u001b[0m   \u001b[39mif\u001b[39;00m cancellation_manager \u001b[39mis\u001b[39;00m \u001b[39mNone\u001b[39;00m:\n\u001b[1;32m--> 381\u001b[0m     outputs \u001b[39m=\u001b[39m execute\u001b[39m.\u001b[39;49mexecute(\n\u001b[0;32m    382\u001b[0m         \u001b[39mstr\u001b[39;49m(\u001b[39mself\u001b[39;49m\u001b[39m.\u001b[39;49msignature\u001b[39m.\u001b[39;49mname),\n\u001b[0;32m    383\u001b[0m         num_outputs\u001b[39m=\u001b[39;49m\u001b[39mself\u001b[39;49m\u001b[39m.\u001b[39;49m_num_outputs,\n\u001b[0;32m    384\u001b[0m         inputs\u001b[39m=\u001b[39;49margs,\n\u001b[0;32m    385\u001b[0m         attrs\u001b[39m=\u001b[39;49mattrs,\n\u001b[0;32m    386\u001b[0m         ctx\u001b[39m=\u001b[39;49mctx)\n\u001b[0;32m    387\u001b[0m   \u001b[39melse\u001b[39;00m:\n\u001b[0;32m    388\u001b[0m     outputs \u001b[39m=\u001b[39m execute\u001b[39m.\u001b[39mexecute_with_cancellation(\n\u001b[0;32m    389\u001b[0m         \u001b[39mstr\u001b[39m(\u001b[39mself\u001b[39m\u001b[39m.\u001b[39msignature\u001b[39m.\u001b[39mname),\n\u001b[0;32m    390\u001b[0m         num_outputs\u001b[39m=\u001b[39m\u001b[39mself\u001b[39m\u001b[39m.\u001b[39m_num_outputs,\n\u001b[1;32m   (...)\u001b[0m\n\u001b[0;32m    393\u001b[0m         ctx\u001b[39m=\u001b[39mctx,\n\u001b[0;32m    394\u001b[0m         cancellation_manager\u001b[39m=\u001b[39mcancellation_manager)\n",
      "File \u001b[1;32mc:\\Users\\corne\\anaconda3\\envs\\python310\\lib\\site-packages\\tensorflow\\python\\eager\\execute.py:52\u001b[0m, in \u001b[0;36mquick_execute\u001b[1;34m(op_name, num_outputs, inputs, attrs, ctx, name)\u001b[0m\n\u001b[0;32m     50\u001b[0m \u001b[39mtry\u001b[39;00m:\n\u001b[0;32m     51\u001b[0m   ctx\u001b[39m.\u001b[39mensure_initialized()\n\u001b[1;32m---> 52\u001b[0m   tensors \u001b[39m=\u001b[39m pywrap_tfe\u001b[39m.\u001b[39;49mTFE_Py_Execute(ctx\u001b[39m.\u001b[39;49m_handle, device_name, op_name,\n\u001b[0;32m     53\u001b[0m                                       inputs, attrs, num_outputs)\n\u001b[0;32m     54\u001b[0m \u001b[39mexcept\u001b[39;00m core\u001b[39m.\u001b[39m_NotOkStatusException \u001b[39mas\u001b[39;00m e:\n\u001b[0;32m     55\u001b[0m   \u001b[39mif\u001b[39;00m name \u001b[39mis\u001b[39;00m \u001b[39mnot\u001b[39;00m \u001b[39mNone\u001b[39;00m:\n",
      "\u001b[1;31mKeyboardInterrupt\u001b[0m: "
     ]
    }
   ],
   "source": [
    "resnet_model, resnet_score = build_and_train(ResNet50,32,train_data,iters)\n",
    "scores.append(resnet_score)"
   ]
  },
  {
   "cell_type": "code",
   "execution_count": null,
   "metadata": {},
   "outputs": [
    {
     "name": "stdout",
     "output_type": "stream",
     "text": [
      "Building model...\n",
      "Model: \"model_1\"\n",
      "_________________________________________________________________\n",
      " Layer (type)                Output Shape              Param #   \n",
      "=================================================================\n",
      " Input (InputLayer)          [(None, 28, 28, 3)]       0         \n",
      "                                                                 \n",
      " resizing_1 (Resizing)       (None, 75, 75, 3)         0         \n",
      "                                                                 \n",
      " inception_v3 (Functional)   (None, 1, 1, 2048)        21802784  \n",
      "                                                                 \n",
      " flatten_1 (Flatten)         (None, 2048)              0         \n",
      "                                                                 \n",
      " dense_3 (Dense)             (None, 128)               262272    \n",
      "                                                                 \n",
      " dropout_2 (Dropout)         (None, 128)               0         \n",
      "                                                                 \n",
      " dense_4 (Dense)             (None, 64)                8256      \n",
      "                                                                 \n",
      " dropout_3 (Dropout)         (None, 64)                0         \n",
      "                                                                 \n",
      " dense_5 (Dense)             (None, 10)                650       \n",
      "                                                                 \n",
      "=================================================================\n",
      "Total params: 22,073,962\n",
      "Trainable params: 271,178\n",
      "Non-trainable params: 21,802,784\n",
      "_________________________________________________________________\n",
      "None\n",
      "Training top layers...\n",
      "Epoch 1/10\n",
      "32/32 [==============================] - 11s 189ms/step - loss: 2.4039 - accuracy: 0.1520 - val_loss: 2.0220 - val_accuracy: 0.3300\n",
      "Epoch 2/10\n",
      "32/32 [==============================] - 4s 133ms/step - loss: 1.9395 - accuracy: 0.3210 - val_loss: 1.6897 - val_accuracy: 0.4800\n",
      "Epoch 3/10\n",
      "32/32 [==============================] - 4s 131ms/step - loss: 1.6428 - accuracy: 0.4420 - val_loss: 1.4379 - val_accuracy: 0.6200\n",
      "Epoch 4/10\n",
      "32/32 [==============================] - 4s 123ms/step - loss: 1.4574 - accuracy: 0.5130 - val_loss: 1.2726 - val_accuracy: 0.6400\n",
      "Epoch 5/10\n",
      "32/32 [==============================] - 4s 127ms/step - loss: 1.2990 - accuracy: 0.5580 - val_loss: 1.1372 - val_accuracy: 0.6500\n",
      "Epoch 6/10\n",
      "32/32 [==============================] - 4s 122ms/step - loss: 1.1590 - accuracy: 0.6180 - val_loss: 1.0324 - val_accuracy: 0.6700\n",
      "Epoch 7/10\n",
      "32/32 [==============================] - 4s 133ms/step - loss: 1.0850 - accuracy: 0.6480 - val_loss: 0.9688 - val_accuracy: 0.7000\n",
      "Epoch 8/10\n",
      "32/32 [==============================] - 4s 128ms/step - loss: 0.9923 - accuracy: 0.6840 - val_loss: 0.9127 - val_accuracy: 0.7100\n",
      "Epoch 9/10\n",
      "32/32 [==============================] - 4s 122ms/step - loss: 0.9615 - accuracy: 0.6710 - val_loss: 0.8655 - val_accuracy: 0.7200\n",
      "Epoch 10/10\n",
      "32/32 [==============================] - 4s 134ms/step - loss: 0.8899 - accuracy: 0.6990 - val_loss: 0.8239 - val_accuracy: 0.7000\n",
      "Fine tuning all layers...\n",
      "Epoch 1/10\n",
      "32/32 [==============================] - 42s 904ms/step - loss: 0.8560 - accuracy: 0.7200 - val_loss: 0.7526 - val_accuracy: 0.7100\n",
      "Epoch 2/10\n",
      "32/32 [==============================] - 28s 874ms/step - loss: 0.7415 - accuracy: 0.7570 - val_loss: 0.6667 - val_accuracy: 0.7600\n",
      "Epoch 3/10\n",
      "32/32 [==============================] - 27s 854ms/step - loss: 0.6858 - accuracy: 0.7760 - val_loss: 0.6257 - val_accuracy: 0.8100\n",
      "Epoch 4/10\n",
      "32/32 [==============================] - 28s 867ms/step - loss: 0.6195 - accuracy: 0.7910 - val_loss: 0.5843 - val_accuracy: 0.8100\n",
      "Epoch 5/10\n",
      "32/32 [==============================] - 27s 838ms/step - loss: 0.5975 - accuracy: 0.8020 - val_loss: 0.5583 - val_accuracy: 0.8200\n",
      "Epoch 6/10\n",
      "32/32 [==============================] - 27s 841ms/step - loss: 0.5381 - accuracy: 0.8330 - val_loss: 0.5219 - val_accuracy: 0.8100\n",
      "Epoch 7/10\n",
      "32/32 [==============================] - 28s 868ms/step - loss: 0.5269 - accuracy: 0.8410 - val_loss: 0.4999 - val_accuracy: 0.8300\n",
      "Epoch 8/10\n",
      "32/32 [==============================] - 27s 857ms/step - loss: 0.5069 - accuracy: 0.8380 - val_loss: 0.4819 - val_accuracy: 0.8500\n",
      "Epoch 9/10\n",
      "32/32 [==============================] - 26s 823ms/step - loss: 0.4560 - accuracy: 0.8550 - val_loss: 0.4562 - val_accuracy: 0.8800\n",
      "Epoch 10/10\n",
      "32/32 [==============================] - 27s 843ms/step - loss: 0.4397 - accuracy: 0.8650 - val_loss: 0.4360 - val_accuracy: 0.8700\n"
     ]
    }
   ],
   "source": [
    "inception_model, inception_score = build_and_train(InceptionV3,75,train_data,iters)\n",
    "scores.append(inception_score)"
   ]
  },
  {
   "cell_type": "code",
   "execution_count": null,
   "metadata": {},
   "outputs": [
    {
     "name": "stdout",
     "output_type": "stream",
     "text": [
      "WARNING:tensorflow:`input_shape` is undefined or non-square, or `rows` is not in [128, 160, 192, 224]. Weights for input shape (224, 224) will be loaded as the default.\n",
      "Building model...\n",
      "Model: \"model_2\"\n",
      "_________________________________________________________________\n",
      " Layer (type)                Output Shape              Param #   \n",
      "=================================================================\n",
      " Input (InputLayer)          [(None, 28, 28, 3)]       0         \n",
      "                                                                 \n",
      " resizing_2 (Resizing)       (None, 32, 32, 3)         0         \n",
      "                                                                 \n",
      " mobilenet_1.00_224 (Functio  (None, 1, 1, 1024)       3228864   \n",
      " nal)                                                            \n",
      "                                                                 \n",
      " flatten_2 (Flatten)         (None, 1024)              0         \n",
      "                                                                 \n",
      " dense_6 (Dense)             (None, 128)               131200    \n",
      "                                                                 \n",
      " dropout_4 (Dropout)         (None, 128)               0         \n",
      "                                                                 \n",
      " dense_7 (Dense)             (None, 64)                8256      \n",
      "                                                                 \n",
      " dropout_5 (Dropout)         (None, 64)                0         \n",
      "                                                                 \n",
      " dense_8 (Dense)             (None, 10)                650       \n",
      "                                                                 \n",
      "=================================================================\n",
      "Total params: 3,368,970\n",
      "Trainable params: 140,106\n",
      "Non-trainable params: 3,228,864\n",
      "_________________________________________________________________\n",
      "None\n",
      "Training top layers...\n",
      "Epoch 1/10\n",
      "32/32 [==============================] - 4s 54ms/step - loss: 2.3520 - accuracy: 0.1170 - val_loss: 2.2674 - val_accuracy: 0.1800\n",
      "Epoch 2/10\n",
      "32/32 [==============================] - 1s 35ms/step - loss: 2.3159 - accuracy: 0.1180 - val_loss: 2.2533 - val_accuracy: 0.2100\n",
      "Epoch 3/10\n",
      "32/32 [==============================] - 1s 33ms/step - loss: 2.2886 - accuracy: 0.1440 - val_loss: 2.2449 - val_accuracy: 0.2200\n",
      "Epoch 4/10\n",
      "32/32 [==============================] - 1s 32ms/step - loss: 2.2707 - accuracy: 0.1470 - val_loss: 2.2398 - val_accuracy: 0.2100\n",
      "Epoch 5/10\n",
      "32/32 [==============================] - 1s 33ms/step - loss: 2.2569 - accuracy: 0.1560 - val_loss: 2.2318 - val_accuracy: 0.1700\n",
      "Epoch 6/10\n",
      "32/32 [==============================] - 1s 33ms/step - loss: 2.2486 - accuracy: 0.1770 - val_loss: 2.2237 - val_accuracy: 0.2100\n",
      "Epoch 7/10\n",
      "32/32 [==============================] - 1s 36ms/step - loss: 2.2392 - accuracy: 0.1910 - val_loss: 2.2153 - val_accuracy: 0.2200\n",
      "Epoch 8/10\n",
      "32/32 [==============================] - 1s 33ms/step - loss: 2.2101 - accuracy: 0.1950 - val_loss: 2.2029 - val_accuracy: 0.2200\n",
      "Epoch 9/10\n",
      "32/32 [==============================] - 1s 33ms/step - loss: 2.1967 - accuracy: 0.2100 - val_loss: 2.1918 - val_accuracy: 0.2300\n",
      "Epoch 10/10\n",
      "32/32 [==============================] - 1s 33ms/step - loss: 2.1782 - accuracy: 0.2050 - val_loss: 2.1806 - val_accuracy: 0.2500\n",
      "Fine tuning all layers...\n",
      "Epoch 1/10\n",
      "32/32 [==============================] - 12s 249ms/step - loss: 2.1072 - accuracy: 0.2790 - val_loss: 2.0941 - val_accuracy: 0.2900\n",
      "Epoch 2/10\n",
      "32/32 [==============================] - 7s 230ms/step - loss: 2.0498 - accuracy: 0.3200 - val_loss: 2.0296 - val_accuracy: 0.3100\n",
      "Epoch 3/10\n",
      "32/32 [==============================] - 8s 245ms/step - loss: 1.9924 - accuracy: 0.3390 - val_loss: 1.9864 - val_accuracy: 0.3100\n",
      "Epoch 4/10\n",
      "32/32 [==============================] - 8s 237ms/step - loss: 1.9626 - accuracy: 0.3610 - val_loss: 1.9523 - val_accuracy: 0.3600\n",
      "Epoch 5/10\n",
      "32/32 [==============================] - 7s 228ms/step - loss: 1.9226 - accuracy: 0.3830 - val_loss: 1.9283 - val_accuracy: 0.4000\n",
      "Epoch 6/10\n",
      "32/32 [==============================] - 7s 235ms/step - loss: 1.8980 - accuracy: 0.3740 - val_loss: 1.9011 - val_accuracy: 0.4000\n",
      "Epoch 7/10\n",
      "32/32 [==============================] - 7s 234ms/step - loss: 1.8760 - accuracy: 0.3940 - val_loss: 1.8800 - val_accuracy: 0.4100\n",
      "Epoch 8/10\n",
      "32/32 [==============================] - 7s 232ms/step - loss: 1.8542 - accuracy: 0.3980 - val_loss: 1.8558 - val_accuracy: 0.4400\n",
      "Epoch 9/10\n",
      "32/32 [==============================] - 7s 229ms/step - loss: 1.8277 - accuracy: 0.4240 - val_loss: 1.8393 - val_accuracy: 0.4500\n",
      "Epoch 10/10\n",
      "32/32 [==============================] - 7s 230ms/step - loss: 1.8310 - accuracy: 0.4070 - val_loss: 1.8181 - val_accuracy: 0.4900\n"
     ]
    }
   ],
   "source": [
    "mobilenet_model, mobilenet_score = build_and_train(MobileNet,32,train_data,iters)\n",
    "scores.append(mobilenet_score)"
   ]
  },
  {
   "attachments": {},
   "cell_type": "markdown",
   "metadata": {},
   "source": [
    "### Visualizing training"
   ]
  },
  {
   "cell_type": "code",
   "execution_count": null,
   "metadata": {},
   "outputs": [],
   "source": [
    "def model_scores(score):\n",
    "    acc = score[0]\n",
    "    val_acc = score[1]\n",
    "    loss = score[2]\n",
    "    val_loss = score[3]\n",
    "    training_epochs = score[4]\n",
    "    return acc, val_acc, loss, val_loss, training_epochs"
   ]
  },
  {
   "cell_type": "code",
   "execution_count": null,
   "metadata": {},
   "outputs": [
    {
     "name": "stderr",
     "output_type": "stream",
     "text": [
      "No artists with labels found to put in legend.  Note that artists whose label start with an underscore are ignored when legend() is called with no argument.\n",
      "No artists with labels found to put in legend.  Note that artists whose label start with an underscore are ignored when legend() is called with no argument.\n",
      "No artists with labels found to put in legend.  Note that artists whose label start with an underscore are ignored when legend() is called with no argument.\n",
      "No artists with labels found to put in legend.  Note that artists whose label start with an underscore are ignored when legend() is called with no argument.\n",
      "No artists with labels found to put in legend.  Note that artists whose label start with an underscore are ignored when legend() is called with no argument.\n"
     ]
    },
    {
     "data": {
      "image/png": "[encoded data removed]",
      "text/plain": [
       "<Figure size 800x600 with 6 Axes>"
      ]
     },
     "metadata": {},
     "output_type": "display_data"
    }
   ],
   "source": [
    "count = 1\n",
    "plt.style.use('ggplot')\n",
    "plt.figure(figsize=(8, 6))\n",
    "for score in scores:\n",
    "    acc, val_acc, loss, val_loss, training_epochs = model_scores(score)\n",
    "    x_range = range(1,len(acc)+1)\n",
    "\n",
    "    #selecting legend entry \n",
    "    if count == 1:\n",
    "        label_train = 'Training'\n",
    "        label_val= 'Validation'\n",
    "    else: \n",
    "        label_train = None\n",
    "        label_val = None\n",
    "\n",
    "    plt.subplot(2, 3, count)\n",
    "    plt.plot(x_range, acc, label=label_train)\n",
    "    plt.plot(x_range, val_acc, label=label_val)\n",
    "    #plt.ylim([0.8, 1])\n",
    "    plt.plot([training_epochs, training_epochs],plt.ylim(), c = 'black',linewidth=.5,label=None)\n",
    "    plt.legend(loc=2,frameon=False)\n",
    "    if count == 1:\n",
    "        plt.ylabel('Accuracy')\n",
    "        plt.legend(frameon=True)\n",
    "\n",
    "    plt.title(model_names[count-1])\n",
    "\n",
    "    plt.subplot(2, 3, count+3)\n",
    "    plt.plot(x_range, loss, label=None)\n",
    "    plt.plot(x_range, val_loss, label=None)\n",
    "    #plt.ylim([0, 1.0])\n",
    "    plt.plot([training_epochs, training_epochs],plt.ylim(), c='k', linewidth=0.5,label=None)\n",
    "    plt.legend(loc=2,frameon=False)\n",
    "    plt.xlabel('epoch')\n",
    "    if count == 1:\n",
    "        plt.ylabel('Loss')\n",
    "    \n",
    "    count +=1\n",
    "\n",
    "plt.tight_layout()"
   ]
  },
  {
   "attachments": {},
   "cell_type": "markdown",
   "metadata": {},
   "source": [
    "## Model performance"
   ]
  },
  {
   "cell_type": "code",
   "execution_count": null,
   "metadata": {},
   "outputs": [],
   "source": [
    "test_accuracy = [predict(model, test_data) for model in trained_models]\n",
    "pd.DataFrame(test_name, test_accuracy)"
   ]
  },
  {
   "cell_type": "code",
   "execution_count": null,
   "metadata": {},
   "outputs": [
    {
     "data": {
      "text/plain": [
       "([0.10300000011920929,\n",
       "  0.1860000044107437,\n",
       "  0.28600001335144043,\n",
       "  0.3610000014305115,\n",
       "  0.414000004529953,\n",
       "  0.47099998593330383,\n",
       "  0.48899999260902405,\n",
       "  0.5210000276565552,\n",
       "  0.5730000138282776,\n",
       "  0.5699999928474426,\n",
       "  0.6029999852180481,\n",
       "  0.656000018119812,\n",
       "  0.6740000247955322,\n",
       "  0.7269999980926514,\n",
       "  0.7160000205039978,\n",
       "  0.7429999709129333,\n",
       "  0.746999979019165,\n",
       "  0.7689999938011169,\n",
       "  0.7879999876022339,\n",
       "  0.8040000200271606],\n",
       " [0.23999999463558197,\n",
       "  0.33000001311302185,\n",
       "  0.5199999809265137,\n",
       "  0.5799999833106995,\n",
       "  0.5799999833106995,\n",
       "  0.6000000238418579,\n",
       "  0.6399999856948853,\n",
       "  0.6100000143051147,\n",
       "  0.6299999952316284,\n",
       "  0.6700000166893005,\n",
       "  0.7099999785423279,\n",
       "  0.75,\n",
       "  0.75,\n",
       "  0.7699999809265137,\n",
       "  0.7799999713897705,\n",
       "  0.7799999713897705,\n",
       "  0.8100000023841858,\n",
       "  0.800000011920929,\n",
       "  0.8100000023841858,\n",
       "  0.8500000238418579],\n",
       " [2.810197591781616,\n",
       "  2.2950267791748047,\n",
       "  2.046393632888794,\n",
       "  1.8641380071640015,\n",
       "  1.7086983919143677,\n",
       "  1.554708480834961,\n",
       "  1.5100812911987305,\n",
       "  1.405442476272583,\n",
       "  1.3444536924362183,\n",
       "  1.2801806926727295,\n",
       "  1.166136622428894,\n",
       "  1.0292487144470215,\n",
       "  0.9880399107933044,\n",
       "  0.8606290817260742,\n",
       "  0.8683657050132751,\n",
       "  0.7700054049491882,\n",
       "  0.7625009417533875,\n",
       "  0.7381227016448975,\n",
       "  0.6696570515632629,\n",
       "  0.6515218019485474],\n",
       " [2.1751348972320557,\n",
       "  1.9442620277404785,\n",
       "  1.7451276779174805,\n",
       "  1.5758863687515259,\n",
       "  1.4595651626586914,\n",
       "  1.3597612380981445,\n",
       "  1.271569013595581,\n",
       "  1.2079553604125977,\n",
       "  1.147419810295105,\n",
       "  1.0983787775039673,\n",
       "  0.8760177493095398,\n",
       "  0.7788618206977844,\n",
       "  0.7252194881439209,\n",
       "  0.6765220165252686,\n",
       "  0.6467636823654175,\n",
       "  0.6062006950378418,\n",
       "  0.5989921689033508,\n",
       "  0.5740194916725159,\n",
       "  0.5185263156890869,\n",
       "  0.4837316572666168],\n",
       " 10)"
      ]
     },
     "execution_count": 20,
     "metadata": {},
     "output_type": "execute_result"
    }
   ],
   "source": [
    "file = open('ResNet50_scores.pkl', 'rb')\n",
    "data = pickle.load(file)\n",
    "data"
   ]
  }
 ],
 "metadata": {
  "kernelspec": {
   "display_name": "python310",
   "language": "python",
   "name": "python3"
  },
  "language_info": {
   "codemirror_mode": {
    "name": "ipython",
    "version": 3
   },
   "file_extension": ".py",
   "mimetype": "text/x-python",
   "name": "python",
   "nbconvert_exporter": "python",
   "pygments_lexer": "ipython3",
   "version": "3.10.0"
  },
  "orig_nbformat": 4
 },
 "nbformat": 4,
 "nbformat_minor": 2
}
